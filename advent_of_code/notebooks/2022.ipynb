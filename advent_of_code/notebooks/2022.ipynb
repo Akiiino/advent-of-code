{
 "cells": [
  {
   "cell_type": "code",
   "execution_count": 1,
   "metadata": {
    "scrolled": false
   },
   "outputs": [],
   "source": [
    "%load_ext advent_of_code"
   ]
  },
  {
   "cell_type": "code",
   "execution_count": 2,
   "metadata": {
    "scrolled": false
   },
   "outputs": [],
   "source": [
    "import collections\n",
    "import functools\n",
    "import heapq\n",
    "import itertools\n",
    "import pathlib\n",
    "import re\n",
    "\n",
    "from matplotlib import pyplot as plt\n",
    "import more_itertools\n",
    "import numpy as np\n",
    "from tqdm.auto import tqdm"
   ]
  },
  {
   "cell_type": "code",
   "execution_count": 3,
   "metadata": {},
   "outputs": [],
   "source": [
    "def dijkstra(graph, start):\n",
    "    nodes = set(raw_graph.keys()) | set.union(*(set(edges.keys()) for edges in raw_graph.values()))\n",
    "\n",
    "    dists = {}\n",
    "    dists[start] = 0\n",
    "\n",
    "    queue = [(0, start)]\n",
    "\n",
    "    while queue:\n",
    "        current_dist, current_node = heapq.heappop(queue)\n",
    "\n",
    "        for other_node, other_dist in graph[current_node].items():\n",
    "            dist = current_dist + other_dist\n",
    "            if other_node not in dists or dist < dists[other_node]:\n",
    "                dists[other_node] = dist\n",
    "                heapq.heappush(queue, (dist, other_node))\n",
    "                \n",
    "    del dists[start]\n",
    "    return dists"
   ]
  },
  {
   "cell_type": "code",
   "execution_count": 4,
   "metadata": {},
   "outputs": [],
   "source": [
    "def subsets(iterable):\n",
    "    \"subsets([1,2,3]) --> () (1,) (2,) (3,) (1,2) (1,3) (2,3) (1,2,3)\"\n",
    "    s = list(iterable)\n",
    "    return itertools.chain.from_iterable(itertools.combinations(s, r) for r in range(len(s)+1))"
   ]
  },
  {
   "cell_type": "markdown",
   "metadata": {},
   "source": [
    "# Day 1"
   ]
  },
  {
   "cell_type": "code",
   "execution_count": 5,
   "metadata": {},
   "outputs": [
    {
     "name": "stdout",
     "output_type": "stream",
     "text": [
      "Execution time: 0.00084 seconds\n",
      "Correct!\n"
     ]
    }
   ],
   "source": [
    "%%aoc 1 1\n",
    "\n",
    "answer = max(map(\n",
    "    lambda x: sum(map(int, x.split(\"\\n\"))),\n",
    "    inputs.split(\"\\n\\n\")\n",
    "))"
   ]
  },
  {
   "cell_type": "code",
   "execution_count": 6,
   "metadata": {
    "scrolled": false
   },
   "outputs": [
    {
     "name": "stdout",
     "output_type": "stream",
     "text": [
      "Execution time: 0.00091 seconds\n",
      "Correct!\n"
     ]
    }
   ],
   "source": [
    "%%aoc 1 2\n",
    "\n",
    "answer = sum(\n",
    "    sorted(map(\n",
    "        lambda x: sum(map(int, x.split(\"\\n\"))),\n",
    "        inputs.split(\"\\n\\n\")\n",
    "    ))[-3:]\n",
    ")"
   ]
  },
  {
   "cell_type": "markdown",
   "metadata": {},
   "source": [
    "# Day 2"
   ]
  },
  {
   "cell_type": "code",
   "execution_count": 7,
   "metadata": {
    "scrolled": false
   },
   "outputs": [
    {
     "name": "stdout",
     "output_type": "stream",
     "text": [
      "Execution time: 0.002 seconds\n",
      "Correct!\n"
     ]
    }
   ],
   "source": [
    "%%aoc 2 1\n",
    "\n",
    "def score_naive(row):\n",
    "    other = ord(row[0]) - ord(\"A\")\n",
    "    me = ord(row[2]) - ord(\"X\")\n",
    "\n",
    "    score = me + 1\n",
    "    score += (me - other + 1) % 3 * 3\n",
    "    return score\n",
    "\n",
    "answer = sum(map(score_naive, inputs.split(\"\\n\")))"
   ]
  },
  {
   "cell_type": "code",
   "execution_count": 8,
   "metadata": {
    "scrolled": false
   },
   "outputs": [
    {
     "name": "stdout",
     "output_type": "stream",
     "text": [
      "Execution time: 0.002 seconds\n",
      "Correct!\n"
     ]
    }
   ],
   "source": [
    "%%aoc 2 2\n",
    "\n",
    "def score_smart(row):\n",
    "    other = ord(row[0]) - ord(\"A\")\n",
    "    me = (other + (ord(row[2]) - ord(\"X\")) - 1) % 3\n",
    "\n",
    "    score = me + 1\n",
    "    score += (me - other + 1) % 3 * 3\n",
    "    return score\n",
    "\n",
    "answer = sum(map(score_smart, inputs.split(\"\\n\")))"
   ]
  },
  {
   "cell_type": "markdown",
   "metadata": {},
   "source": [
    "# Day 3"
   ]
  },
  {
   "cell_type": "code",
   "execution_count": 9,
   "metadata": {
    "scrolled": false
   },
   "outputs": [
    {
     "name": "stdout",
     "output_type": "stream",
     "text": [
      "Execution time: 0.0017 seconds\n",
      "Correct!\n"
     ]
    }
   ],
   "source": [
    "%%aoc 3 1\n",
    "\n",
    "def get_priority(rucksack):\n",
    "    half = len(rucksack)//2\n",
    "    left = set(rucksack[:half])\n",
    "    right = set(rucksack[half:])\n",
    "    common = (left & right).pop()\n",
    "\n",
    "    return ord(common.lower()) - ord(\"a\") + 1 + (26 if common.isupper() else 0)\n",
    "\n",
    "answer = sum(map(get_priority, inputs.split(\"\\n\")))"
   ]
  },
  {
   "cell_type": "code",
   "execution_count": 10,
   "metadata": {
    "scrolled": false
   },
   "outputs": [
    {
     "name": "stdout",
     "output_type": "stream",
     "text": [
      "Execution time: 0.0014 seconds\n",
      "Correct!\n"
     ]
    }
   ],
   "source": [
    "%%aoc 3 2\n",
    "\n",
    "def get_badge_priority(rucksacks):\n",
    "    common = set.intersection(*map(set, rucksacks)).pop()\n",
    "    \n",
    "    return ord(common.lower()) - ord(\"a\") + 1 + (26 if common.isupper() else 0)\n",
    "\n",
    "answer = sum(map(get_badge_priority, zip(*[iter(inputs.split(\"\\n\"))] * 3)))"
   ]
  },
  {
   "cell_type": "markdown",
   "metadata": {},
   "source": [
    "# Day 4"
   ]
  },
  {
   "cell_type": "code",
   "execution_count": 11,
   "metadata": {
    "scrolled": false
   },
   "outputs": [
    {
     "name": "stdout",
     "output_type": "stream",
     "text": [
      "Execution time: 0.0021 seconds\n",
      "Correct!\n"
     ]
    }
   ],
   "source": [
    "%%aoc 4 1\n",
    "\n",
    "pairs = [tuple(map(int, line.replace(\"-\", \",\").split(\",\"))) for line in inputs.split(\"\\n\")]\n",
    "\n",
    "answer = sum((r[0] <= r[2] and r[1] >= r[3]) or (r[0] >= r[2] and r[1] <= r[3]) for r in pairs)"
   ]
  },
  {
   "cell_type": "code",
   "execution_count": 12,
   "metadata": {
    "scrolled": false
   },
   "outputs": [
    {
     "name": "stdout",
     "output_type": "stream",
     "text": [
      "Execution time: 0.0023 seconds\n",
      "Correct!\n"
     ]
    }
   ],
   "source": [
    "%%aoc 4 2\n",
    "\n",
    "pairs = [tuple(map(int, line.replace(\"-\", \",\").split(\",\"))) for line in inputs.split(\"\\n\")]\n",
    "\n",
    "answer = sum(min(r[1], r[3]) >= max(r[0], r[2]) for r in pairs)"
   ]
  },
  {
   "cell_type": "markdown",
   "metadata": {},
   "source": [
    "# Day 5"
   ]
  },
  {
   "cell_type": "code",
   "execution_count": 13,
   "metadata": {
    "scrolled": false
   },
   "outputs": [],
   "source": [
    "#TODO: add to utils\n",
    "def transpose_string(string):\n",
    "    return \"\\n\".join(\"\".join(line) for line in zip(*string.split(\"\\n\")))"
   ]
  },
  {
   "cell_type": "code",
   "execution_count": 14,
   "metadata": {
    "scrolled": false
   },
   "outputs": [],
   "source": [
    "def preprocess_input(inputs):\n",
    "    stacks, instructions = inputs.split(\"\\n\\n\")\n",
    "\n",
    "    instructions = [[int(x) for x in line.split() if x.isdigit()] for line in instructions.split(\"\\n\")]\n",
    "\n",
    "    stacks = transpose_string(stacks).split(\"\\n\")[1::4]\n",
    "    stacks = [list(stack[-2::-1].strip()) for stack in stacks]\n",
    "    \n",
    "    return stacks, instructions"
   ]
  },
  {
   "cell_type": "code",
   "execution_count": 15,
   "metadata": {
    "scrolled": false
   },
   "outputs": [
    {
     "name": "stdout",
     "output_type": "stream",
     "text": [
      "Execution time: 0.0028 seconds\n",
      "Correct!\n"
     ]
    }
   ],
   "source": [
    "%%aoc 5 1\n",
    "\n",
    "stacks, instructions = preprocess_input(inputs)\n",
    "\n",
    "for count, from_, to in instructions:\n",
    "    for _ in range(count):\n",
    "        stacks[to - 1].append(stacks[from_ - 1].pop())\n",
    "\n",
    "answer = \"\".join(stack[-1] for stack in stacks)"
   ]
  },
  {
   "cell_type": "code",
   "execution_count": 16,
   "metadata": {
    "scrolled": false
   },
   "outputs": [
    {
     "name": "stdout",
     "output_type": "stream",
     "text": [
      "Execution time: 0.0023 seconds\n",
      "Correct!\n"
     ]
    }
   ],
   "source": [
    "%%aoc 5 2\n",
    "\n",
    "stacks, instructions = preprocess_input(inputs)\n",
    "\n",
    "for count, from_, to in instructions:\n",
    "    stacks[to - 1].extend(stacks[from_ - 1][-count:])\n",
    "    stacks[from_ - 1] = stacks[from_ - 1][:-count]\n",
    "\n",
    "answer = \"\".join(stack[-1] for stack in stacks)"
   ]
  },
  {
   "cell_type": "markdown",
   "metadata": {},
   "source": [
    "# Day 6"
   ]
  },
  {
   "cell_type": "code",
   "execution_count": 17,
   "metadata": {
    "scrolled": false
   },
   "outputs": [
    {
     "name": "stdout",
     "output_type": "stream",
     "text": [
      "Execution time: 0.0016 seconds\n",
      "Correct!\n"
     ]
    }
   ],
   "source": [
    "%%aoc 6 1\n",
    "\n",
    "answer = next(\n",
    "    i + len(marker)\n",
    "    for i, marker in enumerate(more_itertools.sliding_window(inputs, 4))\n",
    "    if len(set(marker)) == len(marker)\n",
    ")"
   ]
  },
  {
   "cell_type": "code",
   "execution_count": 18,
   "metadata": {
    "scrolled": false
   },
   "outputs": [
    {
     "name": "stdout",
     "output_type": "stream",
     "text": [
      "Execution time: 0.004 seconds\n",
      "Correct!\n"
     ]
    }
   ],
   "source": [
    "%%aoc 6 2\n",
    "\n",
    "answer = next(\n",
    "    i + len(marker)\n",
    "    for i, marker in enumerate(more_itertools.sliding_window(inputs, 14))\n",
    "    if len(set(marker)) == len(marker)\n",
    ")"
   ]
  },
  {
   "cell_type": "markdown",
   "metadata": {},
   "source": [
    "# Day 7"
   ]
  },
  {
   "cell_type": "code",
   "execution_count": 19,
   "metadata": {
    "scrolled": false
   },
   "outputs": [
    {
     "name": "stdout",
     "output_type": "stream",
     "text": [
      "Execution time: 0.0059 seconds\n",
      "Correct!\n"
     ]
    }
   ],
   "source": [
    "%%aoc 7 1\n",
    "\n",
    "path = pathlib.Path(\"/\")\n",
    "sizes = collections.defaultdict(int)\n",
    "children = []\n",
    "\n",
    "for block in inputs.split(\"\\n$ \"):\n",
    "    if block.startswith(\"cd\"):\n",
    "        new_path = block[3:]\n",
    "        if new_path == \"/\":\n",
    "            path = Path(\"/\")\n",
    "        elif new_path == \"..\":\n",
    "            path = path.parent\n",
    "        else:\n",
    "            path /= new_path\n",
    "    elif block.startswith(\"ls\"):\n",
    "        for item in block.split(\"\\n\")[1:]:\n",
    "            size, name = item.split(\" \", 1)\n",
    "            if size == \"dir\":\n",
    "                children.append((path, path/name))\n",
    "            else:\n",
    "                sizes[path] += int(size)\n",
    "\n",
    "for parent, child in children[::-1]:\n",
    "    sizes[parent] += sizes[child]\n",
    "\n",
    "answer = sum(size for size in sizes.values() if size < 100000)"
   ]
  },
  {
   "cell_type": "code",
   "execution_count": 20,
   "metadata": {
    "scrolled": false
   },
   "outputs": [
    {
     "name": "stdout",
     "output_type": "stream",
     "text": [
      "Execution time: 0.0062 seconds\n",
      "Correct!\n"
     ]
    }
   ],
   "source": [
    "%%aoc 7 2\n",
    "\n",
    "path = pathlib.Path(\"/\")\n",
    "sizes = collections.defaultdict(int)\n",
    "children = []\n",
    "\n",
    "for block in inputs.split(\"\\n$ \"):\n",
    "    if block.startswith(\"cd\"):\n",
    "        new_path = block[3:]\n",
    "        if new_path == \"/\":\n",
    "            path = Path(\"/\")\n",
    "        elif new_path == \"..\":\n",
    "            path = path.parent\n",
    "        else:\n",
    "            path /= new_path\n",
    "    elif block.startswith(\"ls\"):\n",
    "        for item in block.split(\"\\n\")[1:]:\n",
    "            size, name = item.split(\" \", 1)\n",
    "            if size == \"dir\":\n",
    "                children.append((path, path/name))\n",
    "            else:\n",
    "                sizes[path] += int(size)\n",
    "\n",
    "for parent, child in children[::-1]:\n",
    "    sizes[parent] += sizes[child]\n",
    "    \n",
    "to_free = sizes[pathlib.Path(\"/\")] - 40000000\n",
    "answer = min(size for size in sizes.values() if size > to_free)"
   ]
  },
  {
   "cell_type": "markdown",
   "metadata": {},
   "source": [
    "# Day 8"
   ]
  },
  {
   "cell_type": "code",
   "execution_count": 21,
   "metadata": {
    "scrolled": false
   },
   "outputs": [
    {
     "name": "stdout",
     "output_type": "stream",
     "text": [
      "Execution time: 0.0052 seconds\n",
      "Correct!\n"
     ]
    }
   ],
   "source": [
    "%%aoc 8 1\n",
    "\n",
    "trees = np.array([[int(tree) for tree in row] for row in inputs.split()])\n",
    "mask = np.zeros_like(trees)\n",
    "\n",
    "for _ in range(4):\n",
    "    mask |= np.concatenate([\n",
    "        [[True] * len(trees)],\n",
    "        np.maximum.accumulate(trees, 0)[:-1] < trees[1:]\n",
    "    ])\n",
    "\n",
    "    trees = np.rot90(trees)\n",
    "    mask = np.rot90(mask)\n",
    "    \n",
    "answer = mask.sum()"
   ]
  },
  {
   "cell_type": "code",
   "execution_count": 22,
   "metadata": {},
   "outputs": [
    {
     "name": "stdout",
     "output_type": "stream",
     "text": [
      "Execution time: 0.074 seconds\n",
      "Correct!\n"
     ]
    }
   ],
   "source": [
    "%%aoc 8 2\n",
    "\n",
    "trees = np.array([[int(tree) for tree in row] for row in inputs.split()])\n",
    "\n",
    "best = 0\n",
    "for x in range(1, len(trees) - 1):\n",
    "    for y in range(1, len(trees) - 1):\n",
    "        total = 1\n",
    "        mul = 0\n",
    "        for cx in range(0, x)[::-1]:\n",
    "            mul += 1\n",
    "            if trees[cx, y] >= trees[x, y]:\n",
    "                break\n",
    "        total *= mul\n",
    "        mul = 0\n",
    "        for cx in range(x + 1, len(trees)):\n",
    "            mul += 1\n",
    "            if trees[cx, y] >= trees[x, y]:\n",
    "                break\n",
    "        total *= mul\n",
    "        mul = 0\n",
    "        for cy in range(0, y)[::-1]:\n",
    "            mul += 1\n",
    "            if trees[x, cy] >= trees[x, y]:\n",
    "                break\n",
    "        total *= mul\n",
    "        mul = 0\n",
    "        for cy in range(y + 1, len(trees)):\n",
    "            mul += 1\n",
    "            if trees[x, cy] >= trees[x, y]:\n",
    "                break\n",
    "        total *= mul\n",
    "        \n",
    "        best = max(best, total)\n",
    "    \n",
    "answer = best"
   ]
  },
  {
   "cell_type": "markdown",
   "metadata": {},
   "source": [
    "# Day 9"
   ]
  },
  {
   "cell_type": "code",
   "execution_count": 23,
   "metadata": {
    "scrolled": false
   },
   "outputs": [],
   "source": [
    "def fix_tail(head, tail):\n",
    "    if abs(head - tail).max() <= 1:\n",
    "        return tail\n",
    "    else:\n",
    "        return tail + np.sign(head - tail)"
   ]
  },
  {
   "cell_type": "code",
   "execution_count": 24,
   "metadata": {
    "scrolled": false
   },
   "outputs": [
    {
     "name": "stdout",
     "output_type": "stream",
     "text": [
      "Execution time: 0.12 seconds\n",
      "Correct!\n"
     ]
    }
   ],
   "source": [
    "%%aoc 9 1\n",
    "\n",
    "moves = [(line[0], int(line[2:])) for line in inputs.split(\"\\n\")]\n",
    "\n",
    "head = np.array((0, 0))\n",
    "tail = np.array((0, 0))\n",
    "\n",
    "visited = set()\n",
    "\n",
    "for move, num in moves:\n",
    "    if move == \"R\":\n",
    "        shift = (0, 1)\n",
    "    elif move == \"L\":\n",
    "        shift = (0, -1)\n",
    "    elif move == \"U\":\n",
    "        shift = (-1, 0)\n",
    "    elif move == \"D\":\n",
    "        shift = (1, 0)\n",
    "        \n",
    "    for _ in range(num):\n",
    "        head += shift\n",
    "        sign = np.sign(head - tail)\n",
    "        tail += 0 if abs(head - tail).max() <= 1 else sign\n",
    "\n",
    "        \n",
    "        visited.add(tuple(tail))\n",
    "        \n",
    "answer = len(visited)"
   ]
  },
  {
   "cell_type": "code",
   "execution_count": 25,
   "metadata": {
    "scrolled": false
   },
   "outputs": [
    {
     "name": "stdout",
     "output_type": "stream",
     "text": [
      "Execution time: 0.84 seconds\n",
      "Correct!\n"
     ]
    }
   ],
   "source": [
    "%%aoc 9 2\n",
    "\n",
    "moves = [(line[0], int(line[2:])) for line in inputs.split(\"\\n\")]\n",
    "\n",
    "rope = np.zeros((10, 2))\n",
    "\n",
    "visited = set()\n",
    "\n",
    "for move, num in moves:\n",
    "    if move == \"R\":\n",
    "        shift = (0, 1)\n",
    "    elif move == \"L\":\n",
    "        shift = (0, -1)\n",
    "    elif move == \"U\":\n",
    "        shift = (-1, 0)\n",
    "    elif move == \"D\":\n",
    "        shift = (1, 0)\n",
    "        \n",
    "    for _ in range(num):\n",
    "        rope[0] += shift\n",
    "        for i in range(9):\n",
    "            sign = np.sign(rope[i] - rope[i+1])\n",
    "            rope[i+1] += 0 if abs(rope[i] - rope[i+1]).max() <= 1 else sign\n",
    "\n",
    "        visited.add(tuple(rope[-1]))\n",
    "        \n",
    "answer = len(visited)"
   ]
  },
  {
   "cell_type": "markdown",
   "metadata": {},
   "source": [
    "# Day 10"
   ]
  },
  {
   "cell_type": "code",
   "execution_count": 26,
   "metadata": {},
   "outputs": [
    {
     "name": "stdout",
     "output_type": "stream",
     "text": [
      "Execution time: 0.001 seconds\n",
      "Correct!\n"
     ]
    }
   ],
   "source": [
    "%%aoc 10 1\n",
    "\n",
    "ops = [int(line) if line.isdigit() or line[1:].isdigit() else 0 for line in inputs.split()]\n",
    "\n",
    "signal = 0\n",
    "register = 1\n",
    "for cycle, op in enumerate(ops, 1):\n",
    "    if cycle % 40 == 20:\n",
    "        signal += register * cycle\n",
    "\n",
    "    register += op        \n",
    "\n",
    "answer = signal"
   ]
  },
  {
   "cell_type": "code",
   "execution_count": 27,
   "metadata": {},
   "outputs": [
    {
     "data": {
      "text/plain": [
       "<matplotlib.image.AxesImage at 0x10c9b8430>"
      ]
     },
     "execution_count": 27,
     "metadata": {},
     "output_type": "execute_result"
    },
    {
     "data": {
      "image/png": "[encoded data removed]",
      "text/plain": [
       "<Figure size 640x480 with 1 Axes>"
      ]
     },
     "metadata": {},
     "output_type": "display_data"
    },
    {
     "name": "stdout",
     "output_type": "stream",
     "text": [
      "Execution time: 0.12 seconds\n"
     ]
    }
   ],
   "source": [
    "%%aoc 10 2 nosubmit\n",
    "\n",
    "ops = [int(line) if line.isdigit() or line[1:].isdigit() else 0 for line in inputs.split()]\n",
    "\n",
    "grid = np.zeros((6, 40))\n",
    "\n",
    "register = 1\n",
    "for cycle, op in enumerate(ops):        \n",
    "    div, mod = divmod(cycle, 40)\n",
    "\n",
    "    if register - 1 <= mod <= register + 1:\n",
    "        grid[div, mod] = 1\n",
    "\n",
    "    register += op        \n",
    "\n",
    "plt.imshow(grid)"
   ]
  },
  {
   "cell_type": "markdown",
   "metadata": {},
   "source": [
    "# Day 11"
   ]
  },
  {
   "cell_type": "code",
   "execution_count": 28,
   "metadata": {
    "scrolled": false
   },
   "outputs": [],
   "source": [
    "inputs = \"\"\"Monkey 0:\n",
    "  Starting items: 79, 98\n",
    "  Operation: new = old * 19\n",
    "  Test: divisible by 23\n",
    "    If true: throw to monkey 2\n",
    "    If false: throw to monkey 3\n",
    "\n",
    "Monkey 1:\n",
    "  Starting items: 54, 65, 75, 74\n",
    "  Operation: new = old + 6\n",
    "  Test: divisible by 19\n",
    "    If true: throw to monkey 2\n",
    "    If false: throw to monkey 0\n",
    "\n",
    "Monkey 2:\n",
    "  Starting items: 79, 60, 97\n",
    "  Operation: new = old * old\n",
    "  Test: divisible by 13\n",
    "    If true: throw to monkey 1\n",
    "    If false: throw to monkey 3\n",
    "\n",
    "Monkey 3:\n",
    "  Starting items: 74\n",
    "  Operation: new = old + 3\n",
    "  Test: divisible by 17\n",
    "    If true: throw to monkey 0\n",
    "    If false: throw to monkey 1\"\"\""
   ]
  },
  {
   "cell_type": "code",
   "execution_count": 29,
   "metadata": {
    "scrolled": false
   },
   "outputs": [
    {
     "name": "stdout",
     "output_type": "stream",
     "text": [
      "Execution time: 0.0054 seconds\n",
      "Correct!\n"
     ]
    }
   ],
   "source": [
    "%%aoc 11 1\n",
    "\n",
    "def add(old, a, b):\n",
    "    return (a or old) + (b or old)\n",
    "\n",
    "def mul(old, a, b):\n",
    "    return (a or old) * (b or old)\n",
    "\n",
    "Monkey = collections.namedtuple(\"Monkey\", [\"items\", \"op\", \"test\", \"dir_true\", \"dir_false\"])\n",
    "\n",
    "monkeys = []\n",
    "\n",
    "for monkey in inputs.split(\"\\n\\n\"):\n",
    "    _, items, op, test, dir_true, dir_false = monkey.split(\"\\n\")\n",
    "    items = list(map(int, items.split(\": \")[1].split(\", \")))\n",
    "    \n",
    "    assert op.startswith(\"  Operation: new = \")\n",
    "    op = op.split(\" = \")[1]\n",
    "    \n",
    "    a, op, b = op.split()\n",
    "    if a == \"old\":\n",
    "        a = None\n",
    "    else:\n",
    "        a = int(a)\n",
    "    if b == \"old\":\n",
    "        b = None\n",
    "    else:\n",
    "        b = int(b)\n",
    "    \n",
    "    if op == \"+\":\n",
    "        op = functools.partial(add, a=a, b=b)\n",
    "    elif op == \"*\":\n",
    "        op = functools.partial(mul, a=a, b=b)\n",
    "    else:\n",
    "        raise NotImplementedError\n",
    "    \n",
    "    assert test.startswith(\"  Test: divisible by \")\n",
    "    test = int(test.split(\" by \")[1])\n",
    "    \n",
    "    assert dir_true.startswith(\"    If true: throw to monkey \")\n",
    "    dir_true = int(dir_true.split()[-1])\n",
    "    \n",
    "    assert dir_false.startswith(\"    If false: throw to monkey \")\n",
    "    dir_false = int(dir_false.split()[-1])\n",
    "\n",
    "    monkeys.append(Monkey(collections.deque(items), op, test, dir_true, dir_false))\n",
    "\n",
    "counts = [0] * len(monkeys)\n",
    "\n",
    "for _ in range(20):\n",
    "    for i, monkey in enumerate(monkeys):\n",
    "        while monkey.items:\n",
    "            counts[i] += 1\n",
    "            item = monkey.op(monkey.items.popleft()) // 3\n",
    "            if item % monkey.test == 0:\n",
    "                monkeys[monkey.dir_true].items.append(item)\n",
    "            else:\n",
    "                monkeys[monkey.dir_false].items.append(item)\n",
    "\n",
    "counts = sorted(counts)\n",
    "answer = counts[-1] * counts[-2]"
   ]
  },
  {
   "cell_type": "code",
   "execution_count": 30,
   "metadata": {
    "scrolled": false
   },
   "outputs": [
    {
     "name": "stdout",
     "output_type": "stream",
     "text": [
      "Execution time: 0.65 seconds\n",
      "Correct!\n"
     ]
    }
   ],
   "source": [
    "%%aoc 11 2\n",
    "\n",
    "def add(old, a, b):\n",
    "    return (a or old) + (b or old)\n",
    "\n",
    "def mul(old, a, b):\n",
    "    return (a or old) * (b or old)\n",
    "\n",
    "Monkey = collections.namedtuple(\"Monkey\", [\"items\", \"op\", \"test\", \"dir_true\", \"dir_false\"])\n",
    "\n",
    "monkeys = []\n",
    "\n",
    "for monkey in inputs.split(\"\\n\\n\"):\n",
    "    _, items, op, test, dir_true, dir_false = monkey.split(\"\\n\")\n",
    "    items = list(map(int, items.split(\": \")[1].split(\", \")))\n",
    "    \n",
    "    assert op.startswith(\"  Operation: new = \")\n",
    "    op = op.split(\" = \")[1]\n",
    "    \n",
    "    a, op, b = op.split()\n",
    "    if a == \"old\":\n",
    "        a = None\n",
    "    else:\n",
    "        a = int(a)\n",
    "    if b == \"old\":\n",
    "        b = None\n",
    "    else:\n",
    "        b = int(b)\n",
    "    \n",
    "    if op == \"+\":\n",
    "        op = functools.partial(add, a=a, b=b)\n",
    "    elif op == \"*\":\n",
    "        op = functools.partial(mul, a=a, b=b)\n",
    "    else:\n",
    "        raise NotImplementedError\n",
    "    \n",
    "    assert test.startswith(\"  Test: divisible by \")\n",
    "    test = int(test.split(\" by \")[1])\n",
    "    \n",
    "    assert dir_true.startswith(\"    If true: throw to monkey \")\n",
    "    dir_true = int(dir_true.split()[-1])\n",
    "    \n",
    "    assert dir_false.startswith(\"    If false: throw to monkey \")\n",
    "    dir_false = int(dir_false.split()[-1])\n",
    "\n",
    "    monkeys.append(Monkey(collections.deque(items), op, test, dir_true, dir_false))\n",
    "\n",
    "mod = np.prod([monkey.test for monkey in monkeys])\n",
    "\n",
    "counts = [0] * len(monkeys)\n",
    "\n",
    "for _ in range(10000):\n",
    "    for i, monkey in enumerate(monkeys):\n",
    "        while monkey.items:\n",
    "            counts[i] += 1\n",
    "            item = monkey.op(monkey.items.popleft()) % mod\n",
    "            if item % monkey.test == 0:\n",
    "                monkeys[monkey.dir_true].items.append(item)\n",
    "            else:\n",
    "                monkeys[monkey.dir_false].items.append(item)\n",
    "\n",
    "counts = sorted(counts)\n",
    "answer = counts[-1] * counts[-2]"
   ]
  },
  {
   "cell_type": "markdown",
   "metadata": {},
   "source": [
    "# Day 12"
   ]
  },
  {
   "cell_type": "code",
   "execution_count": 31,
   "metadata": {
    "scrolled": false
   },
   "outputs": [
    {
     "name": "stdout",
     "output_type": "stream",
     "text": [
      "Execution time: 0.15 seconds\n",
      "Correct!\n"
     ]
    }
   ],
   "source": [
    "%%aoc 12 1\n",
    "\n",
    "grid = np.array([list(x) for x in inputs.split()])\n",
    "grid = np.pad(grid, 1, constant_values=\"~\")\n",
    "steps = -np.ones_like(grid, dtype=int)\n",
    "\n",
    "start_x, start_y = np.nonzero(grid == \"S\")\n",
    "end_x, end_y = np.nonzero(grid == \"E\")\n",
    "\n",
    "grid[start_x, start_y] = \"a\"\n",
    "grid[end_x, end_y] = \"z\"\n",
    "\n",
    "queue = [(np.concatenate([start_x, start_y]), 0)]\n",
    "\n",
    "for pos, new_steps in queue:\n",
    "    if steps[tuple(pos)] >= 0:\n",
    "        continue\n",
    "    steps[tuple(pos)] = new_steps\n",
    "    for shift in [(0, 1), (0, -1), (1, 0), (-1, 0)]:\n",
    "        next_pos = pos + shift\n",
    "        if ord(grid[tuple(next_pos)]) <= ord(grid[tuple(pos)]) + 1:\n",
    "            queue.append((next_pos, new_steps + 1))\n",
    "\n",
    "answer = steps[end_x, end_y].item()"
   ]
  },
  {
   "cell_type": "code",
   "execution_count": 32,
   "metadata": {
    "scrolled": false
   },
   "outputs": [
    {
     "name": "stdout",
     "output_type": "stream",
     "text": [
      "Execution time: 0.16 seconds\n",
      "Correct!\n"
     ]
    }
   ],
   "source": [
    "%%aoc 12 2\n",
    "\n",
    "grid = np.array([list(x) for x in inputs.split()])\n",
    "grid = np.pad(grid, 1, constant_values=\"~\")\n",
    "steps = -np.ones_like(grid, dtype=int)\n",
    "\n",
    "start_x, start_y = np.nonzero(grid == \"E\")\n",
    "\n",
    "grid[np.nonzero(grid == \"S\")] = \"a\"\n",
    "grid[start_x, start_y] = \"z\"\n",
    "\n",
    "queue = [(np.concatenate([start_x, start_y]), 0)]\n",
    "\n",
    "best_steps = None\n",
    "\n",
    "for pos, new_steps in queue:\n",
    "    if steps[tuple(pos)] >= 0:\n",
    "        continue\n",
    "    steps[tuple(pos)] = new_steps\n",
    "    for shift in [(0, 1), (0, -1), (1, 0), (-1, 0)]:\n",
    "        next_pos = pos + shift\n",
    "        if ord(grid[tuple(next_pos)]) >= ord(grid[tuple(pos)]) - 1 and grid[tuple(next_pos)] != \"~\":\n",
    "            queue.append((next_pos, new_steps + 1))\n",
    "            \n",
    "            if grid[tuple(next_pos)] == \"a\" and best_steps == None:\n",
    "                best_steps = new_steps + 1\n",
    "\n",
    "answer = best_steps"
   ]
  },
  {
   "cell_type": "markdown",
   "metadata": {},
   "source": [
    "# Day 13"
   ]
  },
  {
   "cell_type": "code",
   "execution_count": 33,
   "metadata": {
    "scrolled": false
   },
   "outputs": [],
   "source": [
    "def comparator(left, right):\n",
    "    if isinstance(left, list) and isinstance(right, list):\n",
    "        for a, b in zip(left, right):\n",
    "            comparison = comparator(a, b)\n",
    "            if comparison != 0:\n",
    "                return comparison\n",
    "            \n",
    "        return len(left) - len(right)\n",
    "    \n",
    "    elif not isinstance(left, list) and not isinstance(right, list):        \n",
    "        return left - right\n",
    "    \n",
    "    elif not isinstance(left, list):\n",
    "        return comparator([left], right)\n",
    "    \n",
    "    elif not isinstance(right, list):\n",
    "        return comparator(left, [right])"
   ]
  },
  {
   "cell_type": "code",
   "execution_count": 34,
   "metadata": {
    "scrolled": false
   },
   "outputs": [
    {
     "name": "stdout",
     "output_type": "stream",
     "text": [
      "Execution time: 0.015 seconds\n",
      "Correct!\n"
     ]
    }
   ],
   "source": [
    "%%aoc 13 1\n",
    "        \n",
    "count = 0\n",
    "for i, pair in enumerate(inputs.split(\"\\n\\n\")):\n",
    "    left, right = map(eval, pair.split(\"\\n\"))\n",
    "    if comparator(left, right) < 0:\n",
    "        count += i + 1\n",
    "        \n",
    "answer = count"
   ]
  },
  {
   "cell_type": "code",
   "execution_count": 35,
   "metadata": {
    "scrolled": false
   },
   "outputs": [
    {
     "name": "stdout",
     "output_type": "stream",
     "text": [
      "Execution time: 0.02 seconds\n",
      "Correct!\n"
     ]
    }
   ],
   "source": [
    "%%aoc 13 2\n",
    "\n",
    "packets = sorted(\n",
    "    list(map(\n",
    "        eval,\n",
    "        inputs.replace(\"\\n\\n\", \"\\n\").split(\"\\n\")\n",
    "    )) + [[[2]], [[6]]],\n",
    "    key=functools.cmp_to_key(comparator)\n",
    ")\n",
    "\n",
    "answer = (packets.index([[2]]) + 1) * (packets.index([[6]]) + 1)"
   ]
  },
  {
   "cell_type": "markdown",
   "metadata": {},
   "source": [
    "# Day 14"
   ]
  },
  {
   "cell_type": "code",
   "execution_count": 36,
   "metadata": {
    "scrolled": false
   },
   "outputs": [
    {
     "name": "stdout",
     "output_type": "stream",
     "text": [
      "Execution time: 0.47 seconds\n",
      "Correct!\n"
     ]
    }
   ],
   "source": [
    "%%aoc 14 1\n",
    "\n",
    "taken = set()\n",
    "\n",
    "grid_y_max = -np.infty\n",
    "\n",
    "for line in inputs.split(\"\\n\"):\n",
    "    for start, stop in more_itertools.pairwise(line.split(\" -> \")):\n",
    "        start_x, start_y = map(int, start.split(\",\"))\n",
    "        stop_x, stop_y = map(int, stop.split(\",\"))\n",
    "        \n",
    "        grid_y_max = max(grid_y_max, start_y, stop_y)\n",
    "        \n",
    "        start_y, stop_y = sorted((start_y, stop_y))\n",
    "        start_x, stop_x = sorted((start_x, stop_x))\n",
    "        if start_x == stop_x:\n",
    "            for i in range(start_y, stop_y + 1):\n",
    "                taken.add((start_x, i))\n",
    "\n",
    "        elif start_y == stop_y:\n",
    "            for i in range(start_x, stop_x + 1):\n",
    "                taken.add((i, start_y))\n",
    "\n",
    "grid = np.zeros((1000, 300, 600))\n",
    "taken_walls = taken.copy()\n",
    "\n",
    "for sand in itertools.count():\n",
    "    point = np.array((500, 0))\n",
    "    stopped = False\n",
    "    while point[1] < grid_y_max:\n",
    "        for shift in [(0, 1), (-1, 1), (1, 1)]:\n",
    "            if tuple(point + shift) not in taken:\n",
    "                point += shift\n",
    "                break\n",
    "        else:\n",
    "            taken.add(tuple(point))\n",
    "            break\n",
    "\n",
    "    if point[1] == grid_y_max:\n",
    "        break\n",
    "        \n",
    "answer = sand"
   ]
  },
  {
   "cell_type": "code",
   "execution_count": 37,
   "metadata": {
    "scrolled": false
   },
   "outputs": [
    {
     "name": "stdout",
     "output_type": "stream",
     "text": [
      "Execution time: 24 seconds\n",
      "Correct!\n"
     ]
    }
   ],
   "source": [
    "%%aoc 14 2\n",
    "\n",
    "taken = set()\n",
    "\n",
    "grid_y_max = -np.infty\n",
    "\n",
    "for line in inputs.split(\"\\n\"):\n",
    "    for start, stop in more_itertools.pairwise(line.split(\" -> \")):\n",
    "        start_x, start_y = map(int, start.split(\",\"))\n",
    "        stop_x, stop_y = map(int, stop.split(\",\"))\n",
    "        \n",
    "        grid_y_max = max(grid_y_max, start_y, stop_y)\n",
    "        \n",
    "        start_y, stop_y = sorted((start_y, stop_y))\n",
    "        start_x, stop_x = sorted((start_x, stop_x))\n",
    "        if start_x == stop_x:\n",
    "            for i in range(start_y, stop_y + 1):\n",
    "                taken.add((start_x, i))\n",
    "        elif start_y == stop_y:\n",
    "            for i in range(start_x, stop_x + 1):\n",
    "                taken.add((i, start_y))\n",
    "\n",
    "for sand in itertools.count():\n",
    "    point = np.array((500, 0))\n",
    "    stopped = False\n",
    "    while point[1] < grid_y_max + 1:\n",
    "        for shift in [(0, 1), (-1, 1), (1, 1)]:\n",
    "            if tuple(point + shift) not in taken:\n",
    "                point += shift\n",
    "                break\n",
    "        else:\n",
    "            break\n",
    "    taken.add(tuple(point))\n",
    "\n",
    "    if (point == (500, 0)).all():\n",
    "        break\n",
    "\n",
    "answer = sand + 1"
   ]
  },
  {
   "cell_type": "markdown",
   "metadata": {},
   "source": [
    "# Day 15"
   ]
  },
  {
   "cell_type": "code",
   "execution_count": 38,
   "metadata": {
    "scrolled": false
   },
   "outputs": [],
   "source": [
    "class MutableRange:\n",
    "    def __init__(self, start, stop):\n",
    "        self.start = start\n",
    "        self.stop = stop\n",
    "        \n",
    "    def __and__(self, other):\n",
    "        return MutableRange(max(self.start, other.start), min(self.stop, other.stop))\n",
    "\n",
    "    def __len__(self):\n",
    "        return max(0, self.stop - self.start)\n",
    "    \n",
    "    def __bool__(self):\n",
    "        return self.stop > self.start\n",
    "    \n",
    "    def __le__(self, other):\n",
    "        return (\n",
    "            self.start >= other.start and\n",
    "            self.stop <= other.stop\n",
    "        )\n",
    "\n",
    "    def __ge__(self, other):\n",
    "        return (\n",
    "            self.start <= other.start and\n",
    "            self.stop >= other.stop\n",
    "        )\n",
    "    \n",
    "    def __contains__(self, point):\n",
    "        return self.start <= point < self.stop\n",
    "    \n",
    "    def __repr__(self):\n",
    "        return f\"MutableRange({self.start}, {self.stop})\"\n",
    "    \n",
    "\n",
    "class RangeUnion:\n",
    "    def __init__(self, ranges=()):\n",
    "        self.ranges = [MutableRange(r.start, r.stop) for r in ranges]\n",
    "\n",
    "    def remove(self, remove_range):\n",
    "        if len(remove_range) <= 0:\n",
    "            return\n",
    "        \n",
    "        self.ranges = [\n",
    "            own_range for own_range in self.ranges\n",
    "            if not (own_range <= remove_range)\n",
    "        ]\n",
    "        \n",
    "        x = 0\n",
    "        for own_range in self.ranges:\n",
    "            if own_range.stop in remove_range:\n",
    "                x += 1\n",
    "                own_range.stop = remove_range.start\n",
    "            elif own_range.start in remove_range:\n",
    "                x += 1\n",
    "                own_range.start = remove_range.stop\n",
    "            elif own_range >= remove_range:\n",
    "                self.ranges.append(MutableRange(remove_range.stop, own_range.stop))\n",
    "                own_range.stop = remove_range.start\n",
    "                break\n",
    "            if x == 2:\n",
    "                break\n",
    "        \n",
    "        self.ranges = [\n",
    "            own_range for own_range in self.ranges\n",
    "            if own_range\n",
    "        ]\n",
    "        \n",
    "        return self\n",
    "        \n",
    "    def add(self, add_range):\n",
    "        if len(add_range) <= 0:\n",
    "            return\n",
    "\n",
    "        intersecting_ranges = [\n",
    "            own_range for own_range in self.ranges\n",
    "            if own_range & add_range\n",
    "        ] + [add_range]\n",
    "        \n",
    "        combined_range = MutableRange(\n",
    "            min(r.start for r in intersecting_ranges),\n",
    "            max(r.stop for r in intersecting_ranges),\n",
    "        )\n",
    "        \n",
    "        self.ranges = [\n",
    "            own_range for own_range in self.ranges\n",
    "            if not (own_range & add_range)\n",
    "        ] + [combined_range]\n",
    "        \n",
    "        return self\n",
    "\n",
    "                \n",
    "    def __bool__(self):\n",
    "        return bool(self.ranges)\n",
    "\n",
    "    def __repr__(self):\n",
    "        return \"RangeUnion(\" + repr(self.ranges) + \")\""
   ]
  },
  {
   "cell_type": "code",
   "execution_count": 39,
   "metadata": {
    "scrolled": false
   },
   "outputs": [
    {
     "name": "stdout",
     "output_type": "stream",
     "text": [
      "Execution time: 0.002 seconds\n",
      "Correct!\n"
     ]
    }
   ],
   "source": [
    "%%aoc 15 1\n",
    "\n",
    "pairs = [tuple(map(int, re.findall(\"(-?\\d+)\", line))) for line in inputs.split(\"\\n\")]\n",
    "circles = [(x, y, abs(x-bx) + abs(y-by)) for x, y, bx, by in pairs]\n",
    "\n",
    "col = 2000000\n",
    "\n",
    "included = RangeUnion()\n",
    "for x, y, r in circles:\n",
    "    included.add(range(x - r + abs(col - y), x + r - abs(col - y) + 1))\n",
    "\n",
    "excluded = set()\n",
    "for _, _, bx, by in pairs:\n",
    "    if by == col:\n",
    "        excluded.add(bx)\n",
    "        \n",
    "answer = sum(map(len, included.ranges)) - len(excluded)"
   ]
  },
  {
   "cell_type": "code",
   "execution_count": 40,
   "metadata": {
    "scrolled": false
   },
   "outputs": [
    {
     "data": {
      "application/vnd.jupyter.widget-view+json": {
       "model_id": "c77001424f5f48a2909560713f026252",
       "version_major": 2,
       "version_minor": 0
      },
      "text/plain": [
       "  0%|          | 0/4000001 [00:00<?, ?it/s]"
      ]
     },
     "metadata": {},
     "output_type": "display_data"
    },
    {
     "name": "stdout",
     "output_type": "stream",
     "text": [
      "Execution time: 92 seconds\n",
      "Correct!\n"
     ]
    }
   ],
   "source": [
    "%%aoc 15 2\n",
    "\n",
    "pairs = [tuple(map(int, re.findall(\"(-?\\d+)\", line))) for line in inputs.split(\"\\n\")]\n",
    "circles = [(x, y, abs(x-bx) + abs(y-by)) for x, y, bx, by in pairs]\n",
    "\n",
    "for col in tqdm(range(0, 4000000 + 1)):\n",
    "    points = RangeUnion([range(0, 4000000 + 1)])\n",
    "    for x, y, r in circles:\n",
    "        points.remove(range(\n",
    "            x - r + abs(col - y),\n",
    "            x + r - abs(col - y) + 1\n",
    "        ))\n",
    "        \n",
    "        if not points:\n",
    "            break\n",
    "    else:\n",
    "        score = 4000000 * points.ranges[0].start + col\n",
    "        break\n",
    "        \n",
    "answer = score"
   ]
  },
  {
   "cell_type": "markdown",
   "metadata": {},
   "source": [
    "# Day 16"
   ]
  },
  {
   "cell_type": "code",
   "execution_count": 41,
   "metadata": {},
   "outputs": [],
   "source": [
    "@functools.cache\n",
    "def max_flow(start, time_remaining, available):\n",
    "    best = 0\n",
    "    for other in available:\n",
    "        reduced_time = time_remaining - graph[start][other] - 1\n",
    "        if reduced_time > 0:\n",
    "            best = max(\n",
    "                best,\n",
    "                max_flow(other, reduced_time, available - {other}) + reduced_time * rates[other],\n",
    "            )\n",
    "    return best"
   ]
  },
  {
   "cell_type": "code",
   "execution_count": 42,
   "metadata": {},
   "outputs": [
    {
     "name": "stdout",
     "output_type": "stream",
     "text": [
      "Execution time: 0.26 seconds\n",
      "Correct!\n"
     ]
    }
   ],
   "source": [
    "%%aoc 16 1\n",
    "\n",
    "expression = re.compile(r\"Valve (\\w+) has flow rate=(-?\\d+); tunnels? leads? to valves? (.+)\")\n",
    "parsed = [expression.findall(line)[0] for line in inputs.split(\"\\n\")]\n",
    "\n",
    "rates = {valve: int(rate) for valve, rate, _ in parsed}\n",
    "active_nodes = {valve for valve, rate in rates.items() if rate > 0}\n",
    "\n",
    "raw_graph = {valve: {other: 1 for other in near.split(\", \")} for valve, _, near in parsed}\n",
    "\n",
    "\n",
    "graph = {\n",
    "    node: {\n",
    "        node: dist for node, dist in dijkstra(raw_graph, node).items() if node in active_nodes\n",
    "    }\n",
    "    for node in active_nodes | {\"AA\"}\n",
    "}\n",
    "    \n",
    "answer = max_flow(\"AA\", 30, frozenset(active_nodes))"
   ]
  },
  {
   "cell_type": "code",
   "execution_count": 43,
   "metadata": {},
   "outputs": [
    {
     "name": "stdout",
     "output_type": "stream",
     "text": [
      "Execution time: 28 seconds\n",
      "Correct!\n"
     ]
    }
   ],
   "source": [
    "%%aoc 16 2\n",
    "\n",
    "expression = re.compile(r\"Valve (\\w+) has flow rate=(-?\\d+); tunnels? leads? to valves? (.+)\")\n",
    "parsed = [expression.findall(line)[0] for line in inputs.split(\"\\n\")]\n",
    "\n",
    "rates = {valve: int(rate) for valve, rate, _ in parsed}\n",
    "active_nodes = {valve for valve, rate in rates.items() if rate > 0}\n",
    "\n",
    "raw_graph = {valve: {other: 1 for other in near.split(\", \")} for valve, _, near in parsed}\n",
    "\n",
    "graph = {\n",
    "    node: {\n",
    "        node: dist for node, dist in dijkstra(raw_graph, node).items() if node in active_nodes\n",
    "    }\n",
    "    for node in active_nodes | {\"AA\"}\n",
    "}\n",
    "\n",
    "\n",
    "best = 0\n",
    "for allowed_nodes in subsets(active_nodes):\n",
    "    me = max_flow(\"AA\", 26, frozenset(allowed_nodes))\n",
    "    elephant = max_flow(\"AA\", 26, frozenset(active_nodes) - set(allowed_nodes))\n",
    "\n",
    "    best = max(best, me + elephant)\n",
    "\n",
    "answer = best"
   ]
  },
  {
   "cell_type": "markdown",
   "metadata": {},
   "source": [
    "# Day 17"
   ]
  },
  {
   "cell_type": "code",
   "execution_count": 44,
   "metadata": {},
   "outputs": [
    {
     "name": "stdout",
     "output_type": "stream",
     "text": [
      "Execution time: 0.064 seconds\n",
      "Correct!\n"
     ]
    }
   ],
   "source": [
    "%%aoc 17 1\n",
    "\n",
    "winds = itertools.cycle(inputs)\n",
    "\n",
    "types = [\n",
    "    {(0, 0), (0, 1), (0, 2), (0, 3)},\n",
    "    {(0, 1), (1, 0), (1, 1), (1, 2), (2, 1)},\n",
    "    {(0, 0), (0, 1), (0, 2), (1, 2), (2, 2)},\n",
    "    {(0, 0), (1, 0), (2, 0), (3, 0)},\n",
    "    {(0, 0), (0, 1), (1, 0), (1, 1)}\n",
    "]\n",
    "\n",
    "def make_points(type_):\n",
    "    return {tuple(point) for point in np.stack(np.where(type_)).T}\n",
    "\n",
    "def shift(points, dx=0, dy=0):\n",
    "    return {(point[0] + dx, point[1] + dy) for point in points}\n",
    "\n",
    "stack = set()\n",
    "\n",
    "max_height = 0\n",
    "\n",
    "for figure_num in range(2022):\n",
    "    figure = shift(types[figure_num % 5], dx=max_height + 3, dy=2)\n",
    "    \n",
    "    for wind in winds:\n",
    "        new_figure = shift(figure, dy=-1 if wind == \"<\" else 1)\n",
    "        if not stack & new_figure and all(0 <= point[1] < 7 for point in new_figure):\n",
    "            figure = new_figure\n",
    "\n",
    "        new_figure = shift(figure, dx=-1)\n",
    "        if not stack & new_figure and min(point[0] for point in new_figure) >= 0:\n",
    "            figure = new_figure\n",
    "        else:\n",
    "            break\n",
    "\n",
    "    max_height = max(max_height, max(point[0] for point in figure) + 1)\n",
    "    stack |= figure\n",
    "\n",
    "answer = max_height"
   ]
  },
  {
   "cell_type": "code",
   "execution_count": 45,
   "metadata": {},
   "outputs": [
    {
     "name": "stdout",
     "output_type": "stream",
     "text": [
      "Execution time: 0.28 seconds\n",
      "Correct!\n"
     ]
    }
   ],
   "source": [
    "%%aoc 17 2\n",
    "\n",
    "winds = itertools.cycle(inputs)\n",
    "\n",
    "types = [\n",
    "    {(0, 0), (0, 1), (0, 2), (0, 3)},\n",
    "    {(0, 1), (1, 0), (1, 1), (1, 2), (2, 1)},\n",
    "    {(0, 0), (0, 1), (0, 2), (1, 2), (2, 2)},\n",
    "    {(0, 0), (1, 0), (2, 0), (3, 0)},\n",
    "    {(0, 0), (0, 1), (1, 0), (1, 1)}\n",
    "]\n",
    "\n",
    "def make_points(type_):\n",
    "    return {tuple(point) for point in np.stack(np.where(type_)).T}\n",
    "\n",
    "def shift(points, dx=0, dy=0):\n",
    "    return {(point[0] + dx, point[1] + dy) for point in points}\n",
    "\n",
    "stack = set()\n",
    "\n",
    "max_height = 0\n",
    "\n",
    "fingerprints = []\n",
    "loop_detect_size = 100\n",
    "total = 1000000000000\n",
    "\n",
    "for figure_num in range(10000):\n",
    "    figure = shift(types[figure_num % 5], dx=max_height + 3, dy=2)\n",
    "    \n",
    "    for wind in winds:\n",
    "        new_figure = shift(figure, dy=-1 if wind == \"<\" else 1)\n",
    "        if not stack & new_figure and all(0 <= point[1] < 7 for point in new_figure):\n",
    "            figure = new_figure\n",
    "\n",
    "        new_figure = shift(figure, dx=-1)\n",
    "        if not stack & new_figure and min(point[0] for point in new_figure) >= 0:\n",
    "            figure = new_figure\n",
    "        else:\n",
    "            break\n",
    "\n",
    "    prev_height = max_height\n",
    "    max_height = max(max_height, max(point[0] for point in figure) + 1)\n",
    "    \n",
    "    pos = min(point[1] for point in figure)\n",
    "    \n",
    "    fingerprints.append(max_height - prev_height)\n",
    "    stack |= figure\n",
    "\n",
    "for loop_size in range(len(fingerprints)):\n",
    "    if fingerprints[-loop_size:] == fingerprints[-2*loop_size:-loop_size]:\n",
    "        break\n",
    "\n",
    "increment = sum(fingerprints[-loop_size:])\n",
    "steps_skipped = (total - figure_num) // loop_size\n",
    "\n",
    "figure_num += steps_skipped * loop_size\n",
    "max_height += steps_skipped * increment\n",
    "\n",
    "for d in fingerprints[-loop_size: -loop_size + total - figure_num - 1]:\n",
    "    max_height += d\n",
    "\n",
    "answer = max_height"
   ]
  },
  {
   "cell_type": "code",
   "execution_count": 46,
   "metadata": {},
   "outputs": [],
   "source": [
    "def show(stack, figure):\n",
    "    plt.figure()\n",
    "    grid = np.zeros((max(point[0] for point in figure | stack) + 3, 7))\n",
    "    for x, y in stack:\n",
    "        grid[-x-1, y] = 1\n",
    "    for x, y in figure:\n",
    "        grid[-x-1, y] = 2\n",
    "\n",
    "    plt.imshow(grid[:100])"
   ]
  },
  {
   "cell_type": "markdown",
   "metadata": {},
   "source": [
    "# Day 18"
   ]
  },
  {
   "cell_type": "code",
   "execution_count": 47,
   "metadata": {
    "scrolled": false
   },
   "outputs": [
    {
     "name": "stdout",
     "output_type": "stream",
     "text": [
      "Execution time: 0.083 seconds\n",
      "Correct!\n"
     ]
    }
   ],
   "source": [
    "%%aoc 18 1\n",
    "\n",
    "cubes = [np.array(list(map(int, cube.split(\",\")))) for cube in inputs.split()]\n",
    "\n",
    "def get_side_centers(cube):\n",
    "    shifts = [np.array([0] * i + [1] + [0] * (2-i)) for i in range(3)]\n",
    "    return [tuple(cube + shift * 0.5) for shift in shifts] + [tuple(cube - shift * 0.5) for shift in shifts]\n",
    "\n",
    "sides = collections.Counter()\n",
    "for cube in cubes:\n",
    "    for side in get_side_centers(cube):\n",
    "        sides[side] += 1\n",
    "\n",
    "answer = sum(c for c in sides.values() if c == 1)"
   ]
  },
  {
   "cell_type": "code",
   "execution_count": 48,
   "metadata": {
    "scrolled": false
   },
   "outputs": [
    {
     "name": "stdout",
     "output_type": "stream",
     "text": [
      "Execution time: 1.2 seconds\n",
      "Correct!\n"
     ]
    }
   ],
   "source": [
    "%%aoc 18 2\n",
    "\n",
    "cubes = {tuple(map(int, cube.split(\",\"))) for cube in inputs.split()}\n",
    "\n",
    "def get_side_centers(cube):\n",
    "    shifts = [np.array([0] * i + [1] + [0] * (2-i)) for i in range(3)]\n",
    "    return [tuple(cube + shift * 0.5) for shift in shifts] + [tuple(cube - shift * 0.5) for shift in shifts]\n",
    "\n",
    "bb_min = np.stack(list(cubes)).min() - 1\n",
    "bb_max = np.stack(list(cubes)).max() + 1\n",
    "\n",
    "start = tuple([bb_min] * 3)\n",
    "queue = [start]\n",
    "visited = cubes.copy()\n",
    "\n",
    "sides = collections.Counter()\n",
    "for cube in queue:\n",
    "    if cube in visited:\n",
    "        continue\n",
    "    visited.add(cube)\n",
    "    sides.update(get_side_centers(cube))\n",
    "    \n",
    "    for axis in range(3):\n",
    "        for shift in (-1, 1):\n",
    "            step = [0] * axis + [shift] + [0] * (2 - axis)\n",
    "            other = tuple(np.array(cube) + step)\n",
    "            if (bb_min <= other).all() and (other <= bb_max).all():\n",
    "                queue.append(other)\n",
    "                \n",
    "answer = sum(c for side, c in sides.items() if c == 1 and (bb_min - 0.5) not in side and (bb_max + 0.5) not in side)"
   ]
  },
  {
   "cell_type": "markdown",
   "metadata": {},
   "source": [
    "# Day 19"
   ]
  },
  {
   "cell_type": "code",
   "execution_count": 49,
   "metadata": {},
   "outputs": [
    {
     "data": {
      "application/vnd.jupyter.widget-view+json": {
       "model_id": "b531cfd458ff4081b5ab102b13242f30",
       "version_major": 2,
       "version_minor": 0
      },
      "text/plain": [
       "  0%|          | 0/30 [00:00<?, ?it/s]"
      ]
     },
     "metadata": {},
     "output_type": "display_data"
    },
    {
     "name": "stdout",
     "output_type": "stream",
     "text": [
      "Execution time: 1.1e+02 seconds\n",
      "Correct!\n"
     ]
    }
   ],
   "source": [
    "%%aoc 19 1\n",
    "\n",
    "pattern = re.compile(r\"Blueprint (\\d+).*(\\d+) ore.*(\\d+) ore.*(\\d+) ore and (\\d+) clay.*(\\d+) ore and (\\d+) obsidian.*\")\n",
    "blueprints = [tuple(map(int, pattern.match(blueprint).groups())) for blueprint in inputs.split(\"\\n\")]\n",
    "\n",
    "score = 0\n",
    "for num, ore_cost, clay_cost, obs_ore_cost, obs_clay_cost, geode_ore_cost, geode_obs_cost in tqdm(blueprints):\n",
    "    ore_robot = np.array([ore_cost, 0, 0, 0])\n",
    "    clay_robot = np.array([clay_cost, 0, 0, 0])\n",
    "    obs_robot = np.array([obs_ore_cost, obs_clay_cost, 0, 0])\n",
    "    geode_robot = np.array([geode_ore_cost, 0, geode_obs_cost, 0])\n",
    "    robot_costs = [ore_robot, clay_robot, obs_robot, geode_robot]\n",
    "        \n",
    "    max_geodes = 0\n",
    "    start_res = np.array([0, 0, 0, 0])\n",
    "    start_robots = np.array([1, 0, 0, 0])\n",
    "    queue = [(24, start_res, start_robots)]\n",
    "    for time, res, robots in (queue):\n",
    "        if (time * (time+1))//2 + res[3] < max_geodes:\n",
    "            continue\n",
    "        for i, robot in enumerate(robot_costs):\n",
    "            new_res = res - robot\n",
    "            if (new_res >= 0).all() and (new_res[robot != 0] < robots[robot != 0]).any() and time >= 1:\n",
    "                queue.append((time - 1, new_res + robots, robots + np.eye(1, 4, k=i, dtype=int)[0]))\n",
    "                \n",
    "        if time >= 1:\n",
    "            queue.append((time - 1, res + robots, robots))\n",
    "        max_geodes = max(max_geodes, res[3])\n",
    "        \n",
    "    score += num * max_geodes\n",
    "    \n",
    "answer = score"
   ]
  },
  {
   "cell_type": "code",
   "execution_count": 50,
   "metadata": {},
   "outputs": [
    {
     "data": {
      "application/vnd.jupyter.widget-view+json": {
       "model_id": "0b8cbcefeda340528b92fe3bc186623b",
       "version_major": 2,
       "version_minor": 0
      },
      "text/plain": [
       "  0%|          | 0/3 [00:00<?, ?it/s]"
      ]
     },
     "metadata": {},
     "output_type": "display_data"
    },
    {
     "name": "stdout",
     "output_type": "stream",
     "text": [
      "Execution time: 5.5e+02 seconds\n",
      "Correct!\n"
     ]
    }
   ],
   "source": [
    "%%aoc 19 2\n",
    "\n",
    "pattern = re.compile(r\"Blueprint (\\d+).*(\\d+) ore.*(\\d+) ore.*(\\d+) ore and (\\d+) clay.*(\\d+) ore and (\\d+) obsidian.*\")\n",
    "blueprints = [tuple(map(int, pattern.match(blueprint).groups())) for blueprint in inputs.split(\"\\n\")]\n",
    "\n",
    "score = 1\n",
    "for num, ore_cost, clay_cost, obs_ore_cost, obs_clay_cost, geode_ore_cost, geode_obs_cost in tqdm(blueprints[:3]):\n",
    "    ore_robot = np.array([ore_cost, 0, 0, 0])\n",
    "    clay_robot = np.array([clay_cost, 0, 0, 0])\n",
    "    obs_robot = np.array([obs_ore_cost, obs_clay_cost, 0, 0])\n",
    "    geode_robot = np.array([geode_ore_cost, 0, geode_obs_cost, 0])\n",
    "    robot_costs = [ore_robot, clay_robot, obs_robot, geode_robot]\n",
    "        \n",
    "    max_geodes = 0\n",
    "    start_res = np.array([0, 0, 0, 0])\n",
    "    start_robots = np.array([1, 0, 0, 0])\n",
    "    queue = [(32, start_res, start_robots)]\n",
    "    for time, res, robots in (queue):\n",
    "        if (time * (time+1))//2 + res[3] < max_geodes:\n",
    "            continue\n",
    "        for i, robot in enumerate(robot_costs):\n",
    "            new_res = res - robot\n",
    "            if (new_res >= 0).all() and (new_res[robot != 0] < robots[robot != 0]).any() and time >= 1:\n",
    "                new_robots = robots.copy()\n",
    "                new_robots[i] += 1\n",
    "                queue.append((time - 1, new_res + robots, new_robots))\n",
    "                \n",
    "        if time >= 1:\n",
    "            queue.append((time - 1, res + robots, robots))\n",
    "        max_geodes = max(max_geodes, res[3])\n",
    "        \n",
    "    score *= max_geodes\n",
    "    \n",
    "answer = score"
   ]
  },
  {
   "cell_type": "markdown",
   "metadata": {},
   "source": [
    "# Day 20"
   ]
  },
  {
   "cell_type": "code",
   "execution_count": 51,
   "metadata": {
    "scrolled": false
   },
   "outputs": [
    {
     "name": "stdout",
     "output_type": "stream",
     "text": [
      "Execution time: 0.12 seconds\n",
      "Correct!\n"
     ]
    }
   ],
   "source": [
    "%%aoc 20 1\n",
    "\n",
    "mixed = list(map(int, inputs.split()))\n",
    "\n",
    "order = list(range(len(mixed)))\n",
    "\n",
    "for i in range(len(order)):\n",
    "    old_pos = order.index(i)\n",
    "\n",
    "    n = mixed.pop(old_pos)\n",
    "\n",
    "    new_pos = (old_pos + n) % len(mixed)\n",
    "\n",
    "    mixed.insert(new_pos, n)\n",
    "    order.insert(new_pos, order.pop(old_pos))\n",
    "\n",
    "zero = mixed.index(0)\n",
    "answer = sum(mixed[(zero + shift) % len(mixed)] for shift in (1000, 2000, 3000))"
   ]
  },
  {
   "cell_type": "code",
   "execution_count": 52,
   "metadata": {
    "scrolled": false
   },
   "outputs": [
    {
     "name": "stdout",
     "output_type": "stream",
     "text": [
      "Execution time: 1.5 seconds\n",
      "Correct!\n"
     ]
    }
   ],
   "source": [
    "%%aoc 20 2\n",
    "\n",
    "key = 811589153\n",
    "\n",
    "mixed = list(map(int, inputs.split()))\n",
    "mixed = [n * key for n in mixed]\n",
    "\n",
    "order = list(range(len(mixed)))\n",
    "\n",
    "for r in range(10):\n",
    "    for i in range(len(order)):\n",
    "        old_pos = order.index(i)\n",
    "\n",
    "        n = mixed.pop(old_pos)\n",
    "\n",
    "        new_pos = (old_pos + n) % len(mixed)\n",
    "\n",
    "        mixed.insert(new_pos, n)\n",
    "        order.insert(new_pos, order.pop(old_pos))\n",
    "\n",
    "zero = mixed.index(0)\n",
    "answer = sum(mixed[(zero + shift) % len(mixed)] for shift in (1000, 2000, 3000))"
   ]
  },
  {
   "cell_type": "markdown",
   "metadata": {},
   "source": [
    "# Day 21"
   ]
  },
  {
   "cell_type": "code",
   "execution_count": 53,
   "metadata": {},
   "outputs": [],
   "source": [
    "import sympy"
   ]
  },
  {
   "cell_type": "code",
   "execution_count": 54,
   "metadata": {},
   "outputs": [
    {
     "name": "stdout",
     "output_type": "stream",
     "text": [
      "Execution time: 0.017 seconds\n",
      "Correct!\n"
     ]
    }
   ],
   "source": [
    "%%aoc 21 1\n",
    "\n",
    "def get_monkey(name):\n",
    "    if isinstance(monkeys[name], sympy.Symbol):\n",
    "        return monkeys[name]\n",
    "    elif monkeys[name].isdigit():\n",
    "        return int(monkeys[name])\n",
    "    else:\n",
    "        left, op, right = monkeys[name].split()\n",
    "        \n",
    "        return eval(f\"get_monkey(left) {op} get_monkey(right)\")\n",
    "\n",
    "monkeys = dict(line.split(\": \") for line in inputs.split(\"\\n\"))\n",
    "answer = int(get_monkey(\"root\"))"
   ]
  },
  {
   "cell_type": "code",
   "execution_count": 55,
   "metadata": {},
   "outputs": [
    {
     "name": "stdout",
     "output_type": "stream",
     "text": [
      "Execution time: 0.082 seconds\n",
      "Correct!\n"
     ]
    }
   ],
   "source": [
    "%%aoc 21 2\n",
    "\n",
    "def get_monkey(name):\n",
    "    if isinstance(monkeys[name], sympy.Symbol):\n",
    "        return monkeys[name]\n",
    "    elif monkeys[name].isdigit():\n",
    "        return int(monkeys[name])\n",
    "    else:\n",
    "        left, op, right = monkeys[name].split()\n",
    "        \n",
    "        return eval(f\"get_monkey(left) {op} get_monkey(right)\")\n",
    "\n",
    "monkeys = dict(line.split(\": \") for line in inputs.split(\"\\n\"))\n",
    "monkeys[\"humn\"] = sympy.Symbol(\"humn\")\n",
    "\n",
    "left, _, right = monkeys[\"root\"].split()\n",
    "\n",
    "answer = int(round(sympy.solve(get_monkey(left) - get_monkey(right), monkeys[\"humn\"])[0]))"
   ]
  },
  {
   "cell_type": "markdown",
   "metadata": {},
   "source": [
    "# Day 22"
   ]
  },
  {
   "cell_type": "code",
   "execution_count": 56,
   "metadata": {},
   "outputs": [],
   "source": [
    "import scipy.signal"
   ]
  },
  {
   "cell_type": "code",
   "execution_count": 57,
   "metadata": {},
   "outputs": [
    {
     "name": "stdout",
     "output_type": "stream",
     "text": [
      "Execution time: 1.3 seconds\n",
      "Correct!\n"
     ]
    }
   ],
   "source": [
    "%%aoc 22 1\n",
    "\n",
    "grid, directions = inputs.split(\"\\n\\n\")\n",
    "\n",
    "grid = grid.split(\"\\n\")\n",
    "width = max(map(len, grid))\n",
    "grid = np.array([list(row.ljust(width)) for row in grid])\n",
    "directions = re.findall(r\"[0-9]+|L|R\", directions)\n",
    "\n",
    "vis_grid = grid.copy()\n",
    "\n",
    "def next_point(pos, orientation, grid):\n",
    "    next_pos = (pos + orientation) % grid.shape\n",
    "    while grid[tuple(next_pos)] == \" \":\n",
    "        next_pos = (next_pos + orientation) % grid.shape\n",
    "    if grid[tuple(next_pos)] == \"#\":\n",
    "        return pos\n",
    "    else:\n",
    "        return next_pos\n",
    "    \n",
    "\n",
    "pos = np.array([0, np.where(grid[0] == \".\")[0][0]])\n",
    "orientation = np.array([0, 1])\n",
    "\n",
    "for d in directions:\n",
    "    if d == \"L\":\n",
    "        orientation = np.array([[0, -1], [1, 0]]) @ orientation\n",
    "    elif d == \"R\":\n",
    "        orientation = np.array([[0, 1], [-1, 0]]) @ orientation\n",
    "    else:\n",
    "        for _ in range(int(d)):\n",
    "            if (orientation == [0, 1]).all():\n",
    "                facing = \">\"\n",
    "            if (orientation == [1, 0]).all():\n",
    "                facing = \"v\"\n",
    "            if (orientation == [-1, 0]).all():\n",
    "                facing = \"^\"\n",
    "            if (orientation == [0, -1]).all():\n",
    "                facing = \"<\"\n",
    "            vis_grid[tuple(pos)] = facing\n",
    "\n",
    "            pos = next_point(pos, orientation, grid)\n",
    "\n",
    "x, y = pos + 1\n",
    "\n",
    "if (orientation == [0, 1]).all():\n",
    "    facing = 0\n",
    "if (orientation == [1, 0]).all():\n",
    "    facing = 1\n",
    "if (orientation == [0, -1]).all():\n",
    "    facing = 2\n",
    "if (orientation == [-1, 0]).all():\n",
    "    facing = 3\n",
    "\n",
    "answer = 1000 * x + 4 * y + facing"
   ]
  },
  {
   "cell_type": "code",
   "execution_count": 58,
   "metadata": {},
   "outputs": [],
   "source": [
    "def next_point(pos, orientation, grid, warps):\n",
    "    next_pos = pos + orientation\n",
    "    next_orientation = orientation\n",
    "    if (next_pos < 0).any() or (next_pos >= grid.shape).any() or grid[tuple(next_pos)] == \" \":\n",
    "        next_pos, next_orientation = warps[tuple(pos), tuple(orientation)]\n",
    "    if grid[tuple(next_pos)] == \"#\":\n",
    "        return pos, orientation\n",
    "    else:\n",
    "        return next_pos, next_orientation"
   ]
  },
  {
   "cell_type": "code",
   "execution_count": 59,
   "metadata": {},
   "outputs": [
    {
     "name": "stdout",
     "output_type": "stream",
     "text": [
      "Execution time: 4 seconds\n",
      "Correct!\n"
     ]
    }
   ],
   "source": [
    "%%aoc 22 2\n",
    "\n",
    "grid, directions = inputs.split(\"\\n\\n\")\n",
    "\n",
    "grid = grid.split(\"\\n\")\n",
    "width = max(map(len, grid))\n",
    "grid = np.array([list(row.ljust(width)) for row in grid])\n",
    "directions = re.findall(r\"[0-9]+|L|R\", directions)\n",
    "\n",
    "vis_grid = grid.copy()\n",
    "\n",
    "bin_grid = grid != \" \"\n",
    "conv = scipy.signal.convolve(bin_grid, np.ones((3, 3), dtype=int), mode=\"same\")\n",
    "outer_corners = conv == 4\n",
    "inner_corners = conv == 8\n",
    "inside = conv == 9\n",
    "edges = bin_grid ^ inside\n",
    "\n",
    "center_corners = collections.defaultdict(list)\n",
    "warps = {}\n",
    "corner_dists = [100, 200, 50]\n",
    "\n",
    "\n",
    "for i, (corner, max_dist) in enumerate(zip(np.argwhere(inner_corners), corner_dists)):\n",
    "    allowed = outer_corners.astype(int) + edges\n",
    "    queue = [(corner, i, 0, (0, 0))]\n",
    "\n",
    "    for point, center_corner, dist, last_shift in queue:\n",
    "        if dist > max_dist:\n",
    "            break\n",
    "        if not edges[tuple(point)] or not allowed[tuple(point)]:\n",
    "            continue\n",
    "        allowed[tuple(point)] -= 1\n",
    "\n",
    "        if dist > 0:\n",
    "            center_corners[(dist, center_corner)].append((point, last_shift))\n",
    "\n",
    "        for shift in ((-1, 0), (1, 0), (0, -1), (0, 1)):\n",
    "            shifted = point + shift\n",
    "            if (\n",
    "                (shifted >= 0).all() and\n",
    "                (shifted < bin_grid.shape).all()\n",
    "            ):\n",
    "                if allowed[tuple(point)]:\n",
    "                    if edges[tuple(shifted)] and allowed[tuple(shifted)]:\n",
    "                        queue.append((point, center_corner, dist + 1, tuple(shift)))\n",
    "                else:\n",
    "                    queue.append((shifted, center_corner, dist + 1, tuple(shift)))\n",
    "\n",
    "taken = set()\n",
    "finished = set()\n",
    "for (dist, center), ((left, left_shift), (right, right_shift)) in sorted(center_corners.items()):\n",
    "    if center not in finished and (tuple(left), tuple(abs(np.array(left_shift)))) not in taken and (tuple(right), tuple(abs(np.array(right_shift)))) not in taken:\n",
    "        taken.add((tuple(left), tuple(abs(np.array(left_shift)))))\n",
    "        taken.add((tuple(right), tuple(abs(np.array(right_shift)))))\n",
    "        left_shift = np.array([[0, -1], [1, 0]]) @ left_shift\n",
    "        right_shift = np.array([[0, -1], [1, 0]]) @ right_shift\n",
    "        warps[(tuple(left), tuple(left_shift))] = right, np.array(right_shift)\n",
    "        warps[(tuple(right), tuple(right_shift))] = left, np.array(left_shift)\n",
    "        left_shift = -left_shift\n",
    "        right_shift = -right_shift\n",
    "        warps[(tuple(left), tuple(left_shift))] = right, np.array(right_shift)\n",
    "        warps[(tuple(right), tuple(right_shift))] = left, np.array(left_shift)\n",
    "\n",
    "    elif center not in finished:\n",
    "        finished.add(center)\n",
    "pos = np.array([0, np.where(grid[0] == \".\")[0][0]])\n",
    "orientation = np.array([0, 1])\n",
    "\n",
    "for d in directions:\n",
    "    if d == \"L\":\n",
    "        orientation = np.array([[0, -1], [1, 0]]) @ orientation\n",
    "    elif d == \"R\":\n",
    "        orientation = np.array([[0, 1], [-1, 0]]) @ orientation\n",
    "    else:\n",
    "        for _ in range(int(d)):\n",
    "            if (orientation == [0, 1]).all():\n",
    "                facing = \">\"\n",
    "            if (orientation == [1, 0]).all():\n",
    "                facing = \"v\"\n",
    "            if (orientation == [-1, 0]).all():\n",
    "                facing = \"^\"\n",
    "            if (orientation == [0, -1]).all():\n",
    "                facing = \"<\"\n",
    "            vis_grid[tuple(pos)] = facing\n",
    "\n",
    "            pos, orientation = next_point(pos, orientation, grid, warps)\n",
    "\n",
    "x, y = pos + 1\n",
    "\n",
    "if (orientation == [0, 1]).all():\n",
    "    facing = 0\n",
    "if (orientation == [1, 0]).all():\n",
    "    facing = 1\n",
    "if (orientation == [0, -1]).all():\n",
    "    facing = 2\n",
    "if (orientation == [-1, 0]).all():\n",
    "    facing = 3\n",
    "\n",
    "answer = 1000 * x + 4 * y + facing"
   ]
  },
  {
   "cell_type": "markdown",
   "metadata": {},
   "source": [
    "# Day 23"
   ]
  },
  {
   "cell_type": "code",
   "execution_count": 60,
   "metadata": {},
   "outputs": [],
   "source": [
    "import scipy.signal"
   ]
  },
  {
   "cell_type": "code",
   "execution_count": 61,
   "metadata": {},
   "outputs": [
    {
     "name": "stdout",
     "output_type": "stream",
     "text": [
      "Execution time: 0.043 seconds\n",
      "Correct!\n"
     ]
    }
   ],
   "source": [
    "%%aoc 23 1\n",
    "\n",
    "elves = np.array([[c == \"#\" for c in line] for line in inputs.split()])\n",
    "\n",
    "look = np.array([[1, 1, 1], [0, 0, 0], [0, 0, 0]])\n",
    "\n",
    "looks = np.array([look[::-1], look, np.rot90(look, 3), np.rot90(look)])\n",
    "moves = np.array([[-1, 0], [1, 0], [0, -1], [0, 1]])\n",
    "\n",
    "for round in range(10):\n",
    "    if any(elves[0]) or any(elves[-1]) or any(elves[:, 0]) or any(elves[:, -1]):\n",
    "        elves = np.pad(elves, 1)\n",
    "    unhappy_elves = elves & (scipy.signal.convolve2d(elves, [[1, 1, 1], [1, 0, 1], [1, 1, 1]], mode=\"same\") > 0)\n",
    "\n",
    "    moving = collections.defaultdict(list)\n",
    "    moved = np.zeros_like(elves)\n",
    "\n",
    "    for look, move in zip(looks, moves):\n",
    "        nearby = scipy.signal.convolve2d(elves, look, mode=\"same\")\n",
    "        ready = (nearby == 0) & unhappy_elves\n",
    "\n",
    "        for point in np.argwhere(ready & ~moved):\n",
    "            moving[tuple(point + move)].append(point)\n",
    "\n",
    "        moved |= ready\n",
    "\n",
    "    for to_, from_ in moving.items():\n",
    "        if len(from_) == 1:\n",
    "            elves[tuple(to_)] = 1\n",
    "            elves[tuple(from_[0])] = 0\n",
    "\n",
    "    moves = np.roll(moves, -1, axis=0)\n",
    "    looks = np.roll(looks, -1, axis=0)\n",
    "\n",
    "elf_points = np.argwhere(elves)\n",
    "top_left = elf_points.min(axis=0)\n",
    "bottom_right = elf_points.max(axis=0)\n",
    "elves = elves[\n",
    "    top_left[0]:bottom_right[0]+1,\n",
    "    top_left[1]:bottom_right[1]+1\n",
    "]\n",
    "\n",
    "answer = (elves == 0).sum()"
   ]
  },
  {
   "cell_type": "code",
   "execution_count": 62,
   "metadata": {},
   "outputs": [
    {
     "name": "stdout",
     "output_type": "stream",
     "text": [
      "Execution time: 4.3 seconds\n",
      "Correct!\n"
     ]
    }
   ],
   "source": [
    "%%aoc 23 2\n",
    "\n",
    "elves = np.array([[c == \"#\" for c in line] for line in inputs.split()])\n",
    "\n",
    "look = np.array([[1, 1, 1], [0, 0, 0], [0, 0, 0]])\n",
    "looks = np.array([look[::-1], look, np.rot90(look, 3), np.rot90(look)])\n",
    "\n",
    "moves = np.array([[-1, 0], [1, 0], [0, -1], [0, 1]])\n",
    "\n",
    "for round in itertools.count(1):\n",
    "    if any(elves[0]):\n",
    "        elves = np.pad(elves, ((1, 0), (0, 0)))\n",
    "    if any(elves[-1]):\n",
    "        elves = np.pad(elves, ((0, 1), (0, 0)))\n",
    "    if any(elves[:, 0]):\n",
    "        elves = np.pad(elves, ((0, 0), (1, 0)))\n",
    "    if any(elves[:, -1]):\n",
    "        elves = np.pad(elves, ((0, 0), (0, 1)))\n",
    "\n",
    "    unhappy_elves = elves & (scipy.signal.convolve2d(elves, [[1, 1, 1], [1, 0, 1], [1, 1, 1]], mode=\"same\") > 0)\n",
    "\n",
    "    moving = collections.defaultdict(list)\n",
    "    moved = np.zeros_like(elves)\n",
    "\n",
    "    for look, move in zip(looks, moves):\n",
    "        nearby = scipy.signal.convolve2d(elves, look, mode=\"same\")\n",
    "        ready = (nearby == 0) & unhappy_elves\n",
    "\n",
    "        for point in np.argwhere(ready & ~moved):\n",
    "            moving[tuple(point + move)].append(point)\n",
    "\n",
    "        moved |= ready\n",
    "\n",
    "    moved = False\n",
    "    for to_, from_ in moving.items():\n",
    "        if len(from_) == 1:\n",
    "            moved = True\n",
    "            elves[tuple(to_)] = 1\n",
    "            elves[tuple(from_[0])] = 0\n",
    "    if not moved:\n",
    "        break\n",
    "\n",
    "    moves = np.roll(moves, -1, axis=0)\n",
    "    looks = np.roll(looks, -1, axis=0)\n",
    "\n",
    "answer = round"
   ]
  },
  {
   "cell_type": "markdown",
   "metadata": {},
   "source": [
    "# Day 24"
   ]
  },
  {
   "cell_type": "code",
   "execution_count": 63,
   "metadata": {},
   "outputs": [
    {
     "name": "stdout",
     "output_type": "stream",
     "text": [
      "279\n",
      "Execution time: 9.6 seconds\n",
      "Correct!\n"
     ]
    }
   ],
   "source": [
    "%%aoc 24 1\n",
    "\n",
    "grid = inputs.split(\"\\n\")\n",
    "arrows = [row[1: -1] for row in grid[1:-1]]\n",
    "\n",
    "grid = np.zeros((len(arrows), len(arrows[0]), np.lcm(len(arrows), len(arrows[0]))), dtype=bool)\n",
    "\n",
    "for arrow_kind, shift, axis in [(\"^\", -1, 0), (\"v\", 1, 0), (\"<\", -1, 1), (\">\", 1, 1)]:\n",
    "    selected = np.array([[arrow == arrow_kind for arrow in row] for row in arrows])\n",
    "\n",
    "    for s in range(grid.shape[-1]):\n",
    "        grid[..., s] |= selected\n",
    "        selected = np.roll(np.array(selected), shift, axis)\n",
    "\n",
    "grid = np.pad(grid, ((1, 1), (0, 0), (0, 0)))\n",
    "\n",
    "grid[0] = True\n",
    "grid[-1] = True\n",
    "grid[0, 0] = False\n",
    "grid[-1, -1] = False\n",
    "\n",
    "visited = np.zeros_like(grid)\n",
    "queue = [(np.array((0, 0)), 0)]\n",
    "\n",
    "for node, time in queue:\n",
    "    if (node == np.array(grid.shape[:2]) - 1).all():\n",
    "        print(time)\n",
    "        break\n",
    "    else:\n",
    "        if visited[tuple(node)][time % grid.shape[-1]]:\n",
    "            continue\n",
    "        shifts = [(1, 0), (-1, 0), (0, 1), (0, -1), (0, 0)]\n",
    "        visited[tuple(node)][time % grid.shape[-1]] = True\n",
    "        \n",
    "    for shift in shifts:\n",
    "        next_node = node + shift\n",
    "        if (next_node >= 0).all() and (next_node < grid.shape[:-1]).all():\n",
    "            if not grid[tuple(next_node)][(time + 1) % grid.shape[-1]]:\n",
    "                queue.append((next_node, time + 1))\n",
    "\n",
    "answer = time"
   ]
  },
  {
   "cell_type": "code",
   "execution_count": 64,
   "metadata": {},
   "outputs": [
    {
     "name": "stdout",
     "output_type": "stream",
     "text": [
      "Execution time: 28 seconds\n",
      "Correct!\n"
     ]
    }
   ],
   "source": [
    "%%aoc 24 2\n",
    "\n",
    "grid = inputs.split(\"\\n\")\n",
    "arrows = [row[1: -1] for row in grid[1:-1]]\n",
    "\n",
    "grid = np.zeros((len(arrows), len(arrows[0]), np.lcm(len(arrows), len(arrows[0]))), dtype=bool)\n",
    "\n",
    "for arrow_kind, shift, axis in [(\"^\", -1, 0), (\"v\", 1, 0), (\"<\", -1, 1), (\">\", 1, 1)]:\n",
    "    selected = np.array([[arrow == arrow_kind for arrow in row] for row in arrows])\n",
    "\n",
    "    for s in range(grid.shape[-1]):\n",
    "        grid[..., s] |= selected\n",
    "        selected = np.roll(np.array(selected), shift, axis)\n",
    "\n",
    "grid = np.pad(grid, ((1, 1), (0, 0), (0, 0)))\n",
    "\n",
    "grid[0] = True\n",
    "grid[-1] = True\n",
    "grid[0, 0] = False\n",
    "grid[-1, -1] = False\n",
    "\n",
    "visited = np.zeros_like(grid)\n",
    "queue = [(np.array((0, 0)), 0)]\n",
    "\n",
    "for node, time in queue:\n",
    "    if (node == np.array(grid.shape[:2]) - 1).all():\n",
    "        break\n",
    "\n",
    "    if visited[tuple(node)][time % grid.shape[-1]]:\n",
    "        continue\n",
    "    shifts = [(1, 0), (-1, 0), (0, 1), (0, -1), (0, 0)]\n",
    "    visited[tuple(node)][time % grid.shape[-1]] = True\n",
    "\n",
    "    for shift in shifts:\n",
    "        next_node = node + shift\n",
    "        if (next_node >= 0).all() and (next_node < grid.shape[:-1]).all():\n",
    "            if not grid[tuple(next_node)][(time + 1) % grid.shape[-1]]:\n",
    "                queue.append((next_node, time + 1))\n",
    "\n",
    "visited = np.zeros_like(grid)\n",
    "queue = [(np.array(grid.shape[:-1])-1, time)]\n",
    "\n",
    "for node, time in queue:\n",
    "    if (node == (0, 0)).all():\n",
    "        break\n",
    "\n",
    "    if visited[tuple(node)][time % grid.shape[-1]]:\n",
    "        continue\n",
    "    shifts = [(1, 0), (-1, 0), (0, 1), (0, -1), (0, 0)]\n",
    "    visited[tuple(node)][time % grid.shape[-1]] = True\n",
    "        \n",
    "    for shift in shifts:\n",
    "        next_node = node + shift\n",
    "        if (next_node >= 0).all() and (next_node < grid.shape[:-1]).all():\n",
    "            if not grid[tuple(next_node)][(time + 1) % grid.shape[-1]]:\n",
    "                queue.append((next_node, time + 1))\n",
    "\n",
    "visited = np.zeros_like(grid)\n",
    "queue = [(np.array((0, 0)), time)]\n",
    "\n",
    "for node, time in queue:\n",
    "    if (node == np.array(grid.shape[:2]) - 1).all():\n",
    "        break\n",
    "\n",
    "    if visited[tuple(node)][time % grid.shape[-1]]:\n",
    "        continue\n",
    "    shifts = [(1, 0), (-1, 0), (0, 1), (0, -1), (0, 0)]\n",
    "    visited[tuple(node)][time % grid.shape[-1]] = True\n",
    "        \n",
    "    for shift in shifts:\n",
    "        next_node = node + shift\n",
    "        if (next_node >= 0).all() and (next_node < grid.shape[:-1]).all():\n",
    "            if not grid[tuple(next_node)][(time + 1) % grid.shape[-1]]:\n",
    "                queue.append((next_node, time + 1))\n",
    "                \n",
    "answer = time"
   ]
  },
  {
   "cell_type": "markdown",
   "metadata": {},
   "source": [
    "# Day 25"
   ]
  },
  {
   "cell_type": "code",
   "execution_count": 65,
   "metadata": {},
   "outputs": [],
   "source": [
    "def to_snafu(n):\n",
    "    output = \"\"\n",
    "    while n:\n",
    "        mod = n % 5\n",
    "        n = n // 5\n",
    "        if(mod == 3):\n",
    "            mod = -2\n",
    "            n += 1\n",
    "        elif(mod == 4):\n",
    "            mod = -1\n",
    "            n += 1\n",
    "        output = \"012=-\"[mod] + output\n",
    "    return output"
   ]
  },
  {
   "cell_type": "code",
   "execution_count": 66,
   "metadata": {},
   "outputs": [],
   "source": [
    "def from_snafu(s):\n",
    "    acc = 0\n",
    "    base = 1\n",
    "    for digit in s[::-1]:\n",
    "        if digit == \"-\":\n",
    "            digit = \"-1\"\n",
    "        elif digit == \"=\":\n",
    "            digit = \"-2\"\n",
    "        acc += base * int(digit)\n",
    "        base *= 5\n",
    "    return acc"
   ]
  },
  {
   "cell_type": "code",
   "execution_count": 67,
   "metadata": {},
   "outputs": [
    {
     "name": "stdout",
     "output_type": "stream",
     "text": [
      "Execution time: 0.001 seconds\n",
      "Correct!\n"
     ]
    }
   ],
   "source": [
    "%%aoc 25 1\n",
    "answer = to_snafu(sum(map(from_snafu, inputs.split(\"\\n\"))))"
   ]
  }
 ],
 "metadata": {
  "kernelspec": {
   "display_name": "Python 3 (ipykernel)",
   "language": "python",
   "name": "python3"
  },
  "language_info": {
   "codemirror_mode": {
    "name": "ipython",
    "version": 3
   },
   "file_extension": ".py",
   "mimetype": "text/x-python",
   "name": "python",
   "nbconvert_exporter": "python",
   "pygments_lexer": "ipython3",
   "version": "3.10.8"
  }
 },
 "nbformat": 4,
 "nbformat_minor": 4
}
