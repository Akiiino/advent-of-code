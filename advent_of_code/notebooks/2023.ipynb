{
 "cells": [
  {
   "cell_type": "code",
   "execution_count": 1,
   "metadata": {},
   "outputs": [],
   "source": [
    "%load_ext advent_of_code"
   ]
  },
  {
   "cell_type": "code",
   "execution_count": 2,
   "metadata": {},
   "outputs": [],
   "source": [
    "import re\n",
    "import math\n",
    "import itertools\n",
    "\n",
    "from collections import defaultdict, Counter\n",
    "\n",
    "from tqdm.auto import tqdm\n",
    "\n",
    "import numpy as np\n",
    "from functools import cache"
   ]
  },
  {
   "cell_type": "markdown",
   "metadata": {},
   "source": [
    "# Day 1"
   ]
  },
  {
   "cell_type": "code",
   "execution_count": 3,
   "metadata": {},
   "outputs": [
    {
     "name": "stdout",
     "output_type": "stream",
     "text": [
      "Execution time: 0.0065 seconds\n",
      "Correct!\n"
     ]
    }
   ],
   "source": [
    "%%aoc 1 1\n",
    "\n",
    "answer = 0\n",
    "for line in inputs.strip().split(\"\\n\"):\n",
    "    num = [c for c in line if c.isdigit()]\n",
    "    answer += int(num[0] + num[-1])"
   ]
  },
  {
   "cell_type": "code",
   "execution_count": 4,
   "metadata": {},
   "outputs": [
    {
     "name": "stdout",
     "output_type": "stream",
     "text": [
      "Execution time: 0.014 seconds\n",
      "Correct!\n"
     ]
    }
   ],
   "source": [
    "%%aoc 1 2\n",
    "\n",
    "digits = [\"one\", \"two\", \"three\", \"four\", \"five\", \"six\", \"seven\", \"eight\", \"nine\"]\n",
    "digit_map = {d: i for i, d in enumerate(digits, 1)}\n",
    "\n",
    "answer = 0\n",
    "for line in inputs.strip().split(\"\\n\"):\n",
    "    num = re.findall(\"(?=(\\d|\"+\"|\".join(digits)+\"))\", line)\n",
    "    num = [digit_map.get(i, None) or int(i) for i in num]\n",
    "    answer += num[0] * 10 + num[-1]"
   ]
  },
  {
   "cell_type": "markdown",
   "metadata": {},
   "source": [
    "# Day 2"
   ]
  },
  {
   "cell_type": "code",
   "execution_count": 5,
   "metadata": {},
   "outputs": [
    {
     "name": "stdout",
     "output_type": "stream",
     "text": [
      "Execution time: 0.006 seconds\n",
      "Correct!\n"
     ]
    }
   ],
   "source": [
    "%%aoc 2 1\n",
    "\n",
    "total = {\"red\": 12, \"green\": 13, \"blue\": 14}\n",
    "\n",
    "answer = 0\n",
    "\n",
    "for game in inputs.strip().split(\"\\n\"):\n",
    "    num, rounds = game.split(\": \", 1)\n",
    "    num = int(num[5:])\n",
    "\n",
    "    possible = True\n",
    "    for round in rounds.split(\"; \"):\n",
    "        for cubes in round.split(\", \"):\n",
    "            count, color = cubes.split()\n",
    "            if int(count) > total[color]:\n",
    "                possible = False\n",
    "\n",
    "    if possible:\n",
    "        answer += num"
   ]
  },
  {
   "cell_type": "code",
   "execution_count": 6,
   "metadata": {},
   "outputs": [
    {
     "name": "stdout",
     "output_type": "stream",
     "text": [
      "Execution time: 0.0094 seconds\n",
      "Correct!\n"
     ]
    }
   ],
   "source": [
    "%%aoc 2 2\n",
    "\n",
    "answer = 0\n",
    "\n",
    "for game in inputs.strip().split(\"\\n\"):\n",
    "    num, rounds = game.split(\": \", 1)\n",
    "    num = int(num[5:])\n",
    "\n",
    "    total = {\"red\": 0, \"green\": 0, \"blue\": 0}\n",
    "\n",
    "\n",
    "    for round in rounds.split(\"; \"):\n",
    "        for cubes in round.split(\", \"):\n",
    "            count, color = cubes.split()\n",
    "            total[color] = max(total[color], int(count))\n",
    "\n",
    "    power = 1\n",
    "    for count in total.values():\n",
    "        power *= count\n",
    "\n",
    "    answer += power"
   ]
  },
  {
   "cell_type": "markdown",
   "metadata": {},
   "source": [
    "# Day 3"
   ]
  },
  {
   "cell_type": "code",
   "execution_count": 7,
   "metadata": {},
   "outputs": [
    {
     "name": "stdout",
     "output_type": "stream",
     "text": [
      "Execution time: 0.018 seconds\n",
      "Correct!\n"
     ]
    }
   ],
   "source": [
    "%%aoc 3 1\n",
    "\n",
    "grid = inputs.strip().split(\"\\n\")\n",
    "\n",
    "grid = [\".\" + line + \".\" for line in grid]\n",
    "grid = [\".\"*len(grid[0])] + grid + [\".\"*len(grid[0])]\n",
    "\n",
    "answer = 0\n",
    "for i, line in enumerate(grid[1:-1], 1):\n",
    "    for num in re.finditer(r\"(?<!\\d)\\d+(?=.)\", line):\n",
    "        start, end = num.span()\n",
    "        if not (set(grid[i-1][start-1:end+1] + grid[i+1][start-1:end+1] + line[start-1] + line[end]) == {\".\"}):\n",
    "            answer += int(num.group())"
   ]
  },
  {
   "cell_type": "code",
   "execution_count": 8,
   "metadata": {},
   "outputs": [
    {
     "name": "stdout",
     "output_type": "stream",
     "text": [
      "Execution time: 0.02 seconds\n",
      "Correct!\n"
     ]
    }
   ],
   "source": [
    "%%aoc 3 2\n",
    "\n",
    "grid = inputs.strip().split(\"\\n\")\n",
    "\n",
    "grid = [\".\" + line + \".\" for line in grid]\n",
    "grid = [\".\"*len(grid[0])] + grid + [\".\"*len(grid[0])]\n",
    "\n",
    "answer = 0\n",
    "\n",
    "gear_values = defaultdict(list)\n",
    "\n",
    "for i, line in enumerate(grid[1:-1], 1):\n",
    "    for num in re.finditer(r\"(?<!\\d)\\d+(?=.)\", line):\n",
    "        start, end = num.span()\n",
    "        for row_i in range(i-1, i+2):\n",
    "            row = grid[row_i][start-1:end+1]\n",
    "            for gear in re.finditer(r\"\\*\", row):\n",
    "                gear_values[(row_i, start+gear.start())].append(int(num.group()))\n",
    "\n",
    "for nums in gear_values.values():\n",
    "    if len(nums) == 2:\n",
    "        answer += nums[0] * nums[1]"
   ]
  },
  {
   "cell_type": "markdown",
   "metadata": {},
   "source": [
    "# Day 4"
   ]
  },
  {
   "cell_type": "code",
   "execution_count": 9,
   "metadata": {},
   "outputs": [],
   "source": [
    "inputs = \"\"\"Card 1: 41 48 83 86 17 | 83 86  6 31 17  9 48 53\n",
    "Card 2: 13 32 20 16 61 | 61 30 68 82 17 32 24 19\n",
    "Card 3:  1 21 53 59 44 | 69 82 63 72 16 21 14  1\n",
    "Card 4: 41 92 73 84 69 | 59 84 76 51 58  5 54 83\n",
    "Card 5: 87 83 26 28 32 | 88 30 70 12 93 22 82 36\n",
    "Card 6: 31 18 13 56 72 | 74 77 10 23 35 67 36 11\n",
    "\"\"\""
   ]
  },
  {
   "cell_type": "code",
   "execution_count": 10,
   "metadata": {},
   "outputs": [
    {
     "name": "stdout",
     "output_type": "stream",
     "text": [
      "Execution time: 0.014 seconds\n",
      "Correct!\n"
     ]
    }
   ],
   "source": [
    "%%aoc 4 1\n",
    "\n",
    "answer = 0\n",
    "\n",
    "for card in inputs.strip().split(\"\\n\"):\n",
    "    i, win, nums = re.match(r\"Card +(\\d+): ([0-9 ]+) \\| ([0-9 ]+)\", card).groups()\n",
    "    win = Counter(win.split())\n",
    "    nums = Counter(nums.split())\n",
    "\n",
    "    answer += int(2**((win & nums).total()-1))"
   ]
  },
  {
   "cell_type": "code",
   "execution_count": 11,
   "metadata": {},
   "outputs": [
    {
     "name": "stdout",
     "output_type": "stream",
     "text": [
      "Execution time: 0.013 seconds\n",
      "Correct!\n"
     ]
    }
   ],
   "source": [
    "%%aoc 4 2\n",
    "\n",
    "muls = [1 for card in inputs.strip().split(\"\\n\")]\n",
    "\n",
    "for i, card in enumerate(inputs.strip().split(\"\\n\")):\n",
    "    win, nums = re.match(r\"Card +\\d+: ([0-9 ]+) \\| ([0-9 ]+)\", card).groups()\n",
    "    win = Counter(win.split())\n",
    "    nums = Counter(nums.split())\n",
    "\n",
    "    for j in range(i+1, i+1+(win & nums).total()):\n",
    "        muls[j] += muls[i]\n",
    "\n",
    "answer = sum(muls)"
   ]
  },
  {
   "cell_type": "markdown",
   "metadata": {},
   "source": [
    "# Day 5"
   ]
  },
  {
   "cell_type": "code",
   "execution_count": 12,
   "metadata": {},
   "outputs": [
    {
     "name": "stdout",
     "output_type": "stream",
     "text": [
      "Execution time: 0.0076 seconds\n",
      "Correct!\n"
     ]
    }
   ],
   "source": [
    "%%aoc 5 1\n",
    "\n",
    "seeds, *maps = inputs.strip().split(\"\\n\\n\")\n",
    "\n",
    "seeds = [int(seed) for seed in seeds.split()[1:]]\n",
    "maps = [[[int(x) for x in part.split()] for part in layer.split(\"\\n\")[1:]] for layer in maps]\n",
    "\n",
    "answer = float(\"inf\")\n",
    "for seed in seeds:\n",
    "    for layer in maps:\n",
    "        for dest, source, n in layer:\n",
    "            if source <= seed < source + n:\n",
    "                seed = seed - source + dest\n",
    "                break\n",
    "    answer = min(answer, seed)"
   ]
  },
  {
   "cell_type": "code",
   "execution_count": 13,
   "metadata": {},
   "outputs": [
    {
     "name": "stdout",
     "output_type": "stream",
     "text": [
      "Execution time: 0.018 seconds\n",
      "Correct!\n"
     ]
    }
   ],
   "source": [
    "%%aoc 5 2\n",
    "\n",
    "seeds, *maps = inputs.strip().split(\"\\n\\n\")\n",
    "\n",
    "seeds = [int(seed) for seed in seeds.split()[1:]]\n",
    "seeds = [[(s, s+n)] for s, n in zip(seeds[::2], seeds[1::2])]\n",
    "\n",
    "maps = [[[int(x) for x in part.split()] for part in layer.split(\"\\n\")[1:]] for layer in maps]\n",
    "maps = [[(dest_start, source_start, source_start + layer_n) for dest_start, source_start, layer_n in layer] for layer in maps]\n",
    "\n",
    "answer = float(\"inf\")\n",
    "for seed in seeds:\n",
    "    for layer in maps:\n",
    "        new_seed = []\n",
    "        while seed:\n",
    "            reg_start, reg_end = seed.pop()\n",
    "            for dest_start, source_start, source_end in layer:\n",
    "                overlap = (max(reg_start, source_start), min(reg_end, source_end))\n",
    "                if overlap[0] < overlap[1]:                    \n",
    "                    new_seed.append((overlap[0] - source_start + dest_start, overlap[1] - source_start + dest_start))\n",
    "                    if reg_start < source_start:\n",
    "                        seed.append((reg_start, source_start))\n",
    "                    if reg_end > source_end:\n",
    "                        seed.append((source_end, reg_end))\n",
    "                    break\n",
    "            else:\n",
    "                new_seed.append((reg_start, reg_end))\n",
    "    \n",
    "        seed = new_seed\n",
    "    answer = min(answer, *(reg[0] for reg in seed))"
   ]
  },
  {
   "cell_type": "markdown",
   "metadata": {},
   "source": [
    "# Day 6"
   ]
  },
  {
   "cell_type": "code",
   "execution_count": 14,
   "metadata": {},
   "outputs": [
    {
     "name": "stdout",
     "output_type": "stream",
     "text": [
      "Execution time: 0.002 seconds\n",
      "Correct!\n"
     ]
    }
   ],
   "source": [
    "%%aoc 6 1\n",
    "data = list(zip(*[map(int, line.split()[1:]) for line in inputs.strip().split(\"\\n\")]))\n",
    "answer = 1\n",
    "for t, d in data:\n",
    "    answer *= t - 1 - 2*math.floor((t - math.sqrt(t**2 - 4*d))/2)"
   ]
  },
  {
   "cell_type": "code",
   "execution_count": 15,
   "metadata": {},
   "outputs": [
    {
     "name": "stdout",
     "output_type": "stream",
     "text": [
      "Execution time: 0.0016 seconds\n",
      "Correct!\n"
     ]
    }
   ],
   "source": [
    "%%aoc 6 2\n",
    "t, d = map(int, [\"\".join(line.split()[1:]) for line in inputs.strip().split(\"\\n\")])\n",
    "answer = t - 1 - 2*math.floor((t - math.sqrt(t**2 - 4*d))/2)"
   ]
  },
  {
   "cell_type": "markdown",
   "metadata": {},
   "source": [
    "# Day 7"
   ]
  },
  {
   "cell_type": "code",
   "execution_count": 16,
   "metadata": {},
   "outputs": [
    {
     "name": "stdout",
     "output_type": "stream",
     "text": [
      "Execution time: 0.021 seconds\n",
      "Correct!\n"
     ]
    }
   ],
   "source": [
    "%%aoc 7 1\n",
    "\n",
    "types = [(5, ), (1, 4), (2, 3), (1, 1, 3), (1, 2, 2), (1, 1, 1, 2), (1, 1, 1, 1, 1)]\n",
    "cards = [\"A\", \"K\", \"Q\", \"J\", \"T\", \"9\", \"8\", \"7\", \"6\", \"5\", \"4\", \"3\", \"2\"]\n",
    "\n",
    "def hand_type(hand):\n",
    "    hand_type = types.index(tuple(sorted(len(list(x[1])) for x in itertools.groupby(sorted(hand)))))\n",
    "    first_card = [cards.index(card) for card in hand]\n",
    "    return (hand_type, first_card)\n",
    "\n",
    "lines = [line.split(\" \") for line in inputs.strip().split(\"\\n\")]\n",
    "\n",
    "hands = sorted(lines, key=lambda x: hand_type(x[0]), reverse=True)\n",
    "\n",
    "answer = 0\n",
    "for i, (_, bid ) in enumerate(hands, 1):\n",
    "    answer += i * int(bid)"
   ]
  },
  {
   "cell_type": "code",
   "execution_count": 17,
   "metadata": {},
   "outputs": [
    {
     "name": "stdout",
     "output_type": "stream",
     "text": [
      "Execution time: 0.029 seconds\n",
      "Correct!\n"
     ]
    }
   ],
   "source": [
    "%%aoc 7 2\n",
    "\n",
    "types = [(5, ), (1, 4), (2, 3), (1, 1, 3), (1, 2, 2), (1, 1, 1, 2), (1, 1, 1, 1, 1)]\n",
    "cards = [\"A\", \"K\", \"Q\", \"T\", \"9\", \"8\", \"7\", \"6\", \"5\", \"4\", \"3\", \"2\", \"J\"]\n",
    "\n",
    "def hand_type(hand):\n",
    "    counts = tuple(sorted(len(list(x[1])) for x in itertools.groupby(sorted(hand.replace(\"J\", \"\")))))\n",
    "    for i, t in enumerate(types):\n",
    "        if len(counts) <= len(t) and counts <= t:\n",
    "            hand_type = i\n",
    "            break\n",
    "    \n",
    "    first_card = [cards.index(card) for card in hand]\n",
    "    return (hand_type, first_card)\n",
    "\n",
    "\n",
    "lines = [line.split(\" \") for line in inputs.strip().split(\"\\n\")]\n",
    "\n",
    "hands = sorted(lines, key=lambda x: hand_type(x[0]), reverse=True)\n",
    "\n",
    "answer = 0\n",
    "for i, (_, bid ) in enumerate(hands, 1):\n",
    "    answer += i * int(bid)"
   ]
  },
  {
   "cell_type": "markdown",
   "metadata": {},
   "source": [
    "# Day 8"
   ]
  },
  {
   "cell_type": "code",
   "execution_count": 18,
   "metadata": {},
   "outputs": [
    {
     "name": "stdout",
     "output_type": "stream",
     "text": [
      "22411\n",
      "Execution time: 0.02 seconds\n",
      "Correct!\n"
     ]
    }
   ],
   "source": [
    "%%aoc 8 1\n",
    "\n",
    "path, nodes = inputs.strip().split(\"\\n\\n\")\n",
    "\n",
    "path = itertools.cycle(path)\n",
    "\n",
    "graph = {}\n",
    "for line in nodes.split(\"\\n\"):\n",
    "    name, adj = line.split(\" = \")\n",
    "    left, right = adj[1:-1].split(\", \")\n",
    "    graph[name] = {\"L\": left, \"R\": right}\n",
    "\n",
    "curr = \"AAA\"\n",
    "for answer, turn in enumerate(path, 1):\n",
    "    curr = graph[curr][turn]\n",
    "    if curr == \"ZZZ\":\n",
    "        break\n",
    "print(answer)"
   ]
  },
  {
   "cell_type": "code",
   "execution_count": 19,
   "metadata": {},
   "outputs": [
    {
     "name": "stdout",
     "output_type": "stream",
     "text": [
      "11188774513823\n",
      "Execution time: 0.15 seconds\n",
      "Correct!\n"
     ]
    }
   ],
   "source": [
    "%%aoc 8 2\n",
    "\n",
    "path, nodes = inputs.strip().split(\"\\n\\n\")\n",
    "\n",
    "path = itertools.cycle(path)\n",
    "\n",
    "graph = {}\n",
    "for line in nodes.split(\"\\n\"):\n",
    "    name, adj = line.split(\" = \")\n",
    "    left, right = adj[1:-1].split(\", \")\n",
    "    graph[name] = {\"L\": left, \"R\": right}\n",
    "\n",
    "currs = [node for node in graph if node.endswith(\"A\")]\n",
    "lens = [None for _ in currs]\n",
    "\n",
    "for step, turn in enumerate(path, 1):\n",
    "    currs = [graph[curr][turn] for curr in currs]\n",
    "    for i, curr in enumerate(currs):\n",
    "        if curr.endswith(\"Z\") and lens[i] is None:\n",
    "            lens[i] = step\n",
    "    if not any(len is None for len in lens):\n",
    "        break\n",
    "\n",
    "answer = math.lcm(*lens)\n",
    "print(answer)"
   ]
  },
  {
   "cell_type": "markdown",
   "metadata": {},
   "source": [
    "# Day 9"
   ]
  },
  {
   "cell_type": "code",
   "execution_count": 20,
   "metadata": {},
   "outputs": [
    {
     "name": "stdout",
     "output_type": "stream",
     "text": [
      "Execution time: 0.017 seconds\n",
      "Correct!\n"
     ]
    }
   ],
   "source": [
    "%%aoc 9 1\n",
    "\n",
    "def predict(seq):\n",
    "    diffs = [y - x for x, y in zip(seq[:-1], seq[1:])]\n",
    "    if set(diffs) == {0}:\n",
    "        return seq[-1]\n",
    "\n",
    "    return seq[-1] + predict(diffs)\n",
    "\n",
    "seqs = [[int(x) for x in line.split()] for line in inputs.strip().split(\"\\n\")]\n",
    "\n",
    "answer = sum(predict(seq) for seq in seqs)"
   ]
  },
  {
   "cell_type": "code",
   "execution_count": 21,
   "metadata": {},
   "outputs": [
    {
     "name": "stdout",
     "output_type": "stream",
     "text": [
      "Execution time: 0.024 seconds\n",
      "Correct!\n"
     ]
    }
   ],
   "source": [
    "%%aoc 9 2\n",
    "\n",
    "def predict(seq):\n",
    "    diffs = [y - x for x, y in zip(seq[:-1], seq[1:])]\n",
    "    if set(diffs) == {0}:\n",
    "        return seq[0]\n",
    "\n",
    "    return seq[0] - predict(diffs)\n",
    "\n",
    "seqs = [[int(x) for x in line.split()] for line in inputs.strip().split(\"\\n\")]\n",
    "\n",
    "answer = sum(predict(seq) for seq in seqs)"
   ]
  },
  {
   "cell_type": "markdown",
   "metadata": {},
   "source": [
    "# Day 10"
   ]
  },
  {
   "cell_type": "code",
   "execution_count": 22,
   "metadata": {},
   "outputs": [],
   "source": [
    "def add(x, y):\n",
    "    return tuple(np.array(x) + y)\n",
    "\n",
    "movs = {\n",
    "    \"|\": {(0, -1): None, (0, 1): None, (-1, 0): (-1, 0), (1, 0): (1, 0)},\n",
    "    \"-\": {(0, -1): (0, -1), (0, 1): (0, 1), (-1, 0): None, (1, 0): None},\n",
    "    \"L\": {(0, -1): (-1, 0), (0, 1): None, (-1, 0): None, (1, 0): (0, 1)},\n",
    "    \"J\": {(0, -1): None, (0, 1): (-1, 0), (-1, 0): None, (1, 0): (0, -1)},\n",
    "    \"7\": {(0, -1): None, (0, 1): (1, 0), (-1, 0): (0, -1), (1, 0): None},\n",
    "    \"F\": {(0, -1): (1, 0), (0, 1): None, (-1, 0): (0, 1), (1, 0): None},\n",
    "    \".\": {(0, -1): None, (0, 1): None, (-1, 0): None, (1, 0): None},\n",
    "    \"S\": {(0, -1): None, (0, 1): None, (-1, 0): None, (1, 0): None},\n",
    "}\n",
    "\n",
    "fills = {\n",
    "    ((-1, 0), (0, -1)): \"J\",\n",
    "    ((-1, 0), (0, 1)): \"L\",\n",
    "    ((-1, 0), (1, 0)): \"|\",\n",
    "    ((0, -1), (0, 1)): \"-\",\n",
    "    ((0, -1), (1, 0)): \"7\",\n",
    "    ((0, 1), (1, 0)): \"F\",\n",
    "}"
   ]
  },
  {
   "cell_type": "code",
   "execution_count": 23,
   "metadata": {},
   "outputs": [
    {
     "name": "stdout",
     "output_type": "stream",
     "text": [
      "6725\n",
      "Execution time: 0.18 seconds\n",
      "Correct!\n"
     ]
    }
   ],
   "source": [
    "%%aoc 10 1\n",
    "\n",
    "grid = [list(\".\" + row + \".\") for row in inputs.strip().split(\"\\n\")]\n",
    "grid = [[\".\"] * len(grid[0])] + grid + [[\".\"] * len(grid[0])]\n",
    "grid = np.array(grid)\n",
    "\n",
    "start = list(zip(*np.where(grid == \"S\")))[0]\n",
    "\n",
    "poss = {i: (add(start, shift), shift, 1) for i, shift in enumerate(((-1, 0), (1, 0), (0, -1), (0, 1)))}\n",
    "\n",
    "while len(poss) == len(set(pos for pos, *_ in poss.values())):\n",
    "    new_poss = {}\n",
    "    for i, (pos, shift, steps) in poss.items():\n",
    "        new_shift = movs[grid[pos]][shift]\n",
    "        if new_shift is None:\n",
    "            continue\n",
    "        new_poss[i] = (add(pos, new_shift), new_shift, steps + 1)\n",
    "    poss = new_poss\n",
    "\n",
    "answer = poss.popitem()[-1][-1]\n",
    "print(answer)"
   ]
  },
  {
   "cell_type": "code",
   "execution_count": 24,
   "metadata": {},
   "outputs": [
    {
     "name": "stdout",
     "output_type": "stream",
     "text": [
      "383\n",
      "Execution time: 0.22 seconds\n",
      "Correct!\n"
     ]
    }
   ],
   "source": [
    "%%aoc 10 2\n",
    "\n",
    "grid = [list(\".\" + row + \".\") for row in inputs.strip().split(\"\\n\")]\n",
    "grid = [[\".\"] * len(grid[0])] + grid + [[\".\"] * len(grid[0])]\n",
    "grid = np.array(grid)\n",
    "visited = -np.ones_like(grid, dtype=int)\n",
    "\n",
    "start = list(zip(*np.where(grid == \"S\")))[0]\n",
    "\n",
    "shifts = ((-1, 0), (1, 0), (0, -1), (0, 1))\n",
    "poss = {i: (add(start, shift), shift, 1) for i, shift in enumerate(shifts)}\n",
    "\n",
    "while len(poss) == len(set(pos for pos, *_ in poss.values())):\n",
    "    new_poss = {}\n",
    "    for i, (pos, shift, steps) in poss.items():\n",
    "        visited[pos] = i\n",
    "        new_shift = movs[grid[pos]][shift]\n",
    "        if new_shift is None:\n",
    "            continue\n",
    "        new_poss[i] = (add(pos, new_shift), new_shift, steps + 1)\n",
    "    poss = new_poss\n",
    "\n",
    "for i, (pos, *_) in poss.items():\n",
    "    visited[pos] = i\n",
    "    visited[start] = i\n",
    "\n",
    "grid[start] = fills[tuple(sorted(shifts[i] for i in poss))]\n",
    "\n",
    "answer = 0\n",
    "for i, row in enumerate(visited):\n",
    "    inside = False\n",
    "    for j, cell in enumerate(row):\n",
    "        if cell in poss:\n",
    "            if grid[i][j] in {\"|\", \"L\", \"J\"}:\n",
    "                inside = not inside\n",
    "        else:\n",
    "            answer += inside\n",
    "            if inside:\n",
    "                visited[i][j] = 5\n",
    "\n",
    "print(answer)"
   ]
  },
  {
   "cell_type": "markdown",
   "metadata": {},
   "source": [
    "# Day 11"
   ]
  },
  {
   "cell_type": "code",
   "execution_count": 25,
   "metadata": {},
   "outputs": [
    {
     "name": "stdout",
     "output_type": "stream",
     "text": [
      "9550717\n",
      "Execution time: 0.031 seconds\n",
      "Correct!\n"
     ]
    }
   ],
   "source": [
    "%%aoc 11 1\n",
    "\n",
    "grid = np.array([list(row) for row in inputs.strip().split(\"\\n\")])\n",
    "grid = grid == \"#\"\n",
    "\n",
    "mul = 2\n",
    "answer = 0\n",
    "\n",
    "coords = np.where(grid)[0]\n",
    "\n",
    "for i in range(len(coords) // 2):\n",
    "    answer += (mul*(coords[-i-1] - coords[i]) - (mul-1)*(len(set(coords[i:len(coords)-i])) - 2 + 1)) * (len(coords) - 2 * i - 1)\n",
    "\n",
    "coords = np.where(grid.T)[0]\n",
    "\n",
    "for i in range(len(coords) // 2):\n",
    "    answer += (mul*(coords[-i-1] - coords[i]) - (mul-1)*(len(set(coords[i:len(coords)-i])) - 2 + 1)) * (len(coords) - 2 * i - 1)\n",
    "\n",
    "print(answer)"
   ]
  },
  {
   "cell_type": "code",
   "execution_count": 26,
   "metadata": {},
   "outputs": [
    {
     "name": "stdout",
     "output_type": "stream",
     "text": [
      "648458253817\n",
      "Execution time: 0.031 seconds\n",
      "Correct!\n"
     ]
    }
   ],
   "source": [
    "%%aoc 11 2\n",
    "\n",
    "grid = np.array([list(row) for row in inputs.strip().split(\"\\n\")])\n",
    "grid = grid == \"#\"\n",
    "\n",
    "mul = 1000000\n",
    "answer = 0\n",
    "\n",
    "coords = np.where(grid)[0]\n",
    "\n",
    "for i in range(len(coords) // 2):\n",
    "    answer += (mul*(coords[-i-1] - coords[i]) - (mul-1)*(len(set(coords[i:len(coords)-i])) - 2 + 1)) * (len(coords) - 2 * i - 1)\n",
    "\n",
    "coords = np.where(grid.T)[0]\n",
    "\n",
    "for i in range(len(coords) // 2):\n",
    "    answer += (mul*(coords[-i-1] - coords[i]) - (mul-1)*(len(set(coords[i:len(coords)-i])) - 2 + 1)) * (len(coords) - 2 * i - 1)\n",
    "\n",
    "print(answer)"
   ]
  },
  {
   "cell_type": "markdown",
   "metadata": {},
   "source": [
    "# Day 12"
   ]
  },
  {
   "cell_type": "code",
   "execution_count": 27,
   "metadata": {},
   "outputs": [],
   "source": [
    "@cache\n",
    "def solve(board, hint):\n",
    "    if not hint:\n",
    "        return int(\"#\" not in board)\n",
    "\n",
    "    total = 0\n",
    "\n",
    "    max_start = board.find(\"#\")\n",
    "    if max_start == -1:\n",
    "        max_start = float(\"inf\")\n",
    "    max_start = min(max_start, len(board) - sum(hint[1:]) - len(hint) + 1 - hint[0])\n",
    "\n",
    "    for start in range(max_start + 1):\n",
    "        if (\n",
    "            \".\" not in board[start:start+hint[0]]\n",
    "            and board[start+hint[0]:start+hint[0]+1] != \"#\"\n",
    "        ):\n",
    "            total += solve(board[start+hint[0]+1:].strip(\".\"), hint[1:])\n",
    "\n",
    "    return total"
   ]
  },
  {
   "cell_type": "code",
   "execution_count": 28,
   "metadata": {},
   "outputs": [
    {
     "name": "stdout",
     "output_type": "stream",
     "text": [
      "7173\n",
      "Execution time: 0.079 seconds\n",
      "Correct!\n"
     ]
    }
   ],
   "source": [
    "%%aoc 12 1\n",
    "\n",
    "answer = 0\n",
    "\n",
    "for line in inputs.strip().split(\"\\n\"):\n",
    "    board, hint = line.split()\n",
    "    hint = tuple(int(x) for x in hint.split(\",\"))\n",
    "\n",
    "    answer += solve(board, hint)\n",
    "\n",
    "print(answer)"
   ]
  },
  {
   "cell_type": "code",
   "execution_count": 29,
   "metadata": {},
   "outputs": [
    {
     "name": "stdout",
     "output_type": "stream",
     "text": [
      "29826669191291\n",
      "Execution time: 0.75 seconds\n",
      "Correct!\n"
     ]
    }
   ],
   "source": [
    "%%aoc 12 2\n",
    "\n",
    "mul = 5\n",
    "\n",
    "answer = 0\n",
    "\n",
    "for line in inputs.strip().split(\"\\n\"):\n",
    "    board, hint = line.split()\n",
    "    hint = tuple(int(x) for x in hint.split(\",\"))\n",
    "\n",
    "    hint = hint * mul\n",
    "    board = \"?\".join([board] * mul)\n",
    "\n",
    "    answer += solve(board, hint)\n",
    "\n",
    "print(answer)"
   ]
  },
  {
   "cell_type": "markdown",
   "metadata": {},
   "source": [
    "# Day 13"
   ]
  },
  {
   "cell_type": "code",
   "execution_count": 30,
   "metadata": {},
   "outputs": [
    {
     "name": "stdout",
     "output_type": "stream",
     "text": [
      "30535\n",
      "Execution time: 0.038 seconds\n",
      "Correct!\n"
     ]
    }
   ],
   "source": [
    "%%aoc 13 1\n",
    "\n",
    "answer = 0\n",
    "\n",
    "for grid in inputs.strip().split(\"\\n\\n\"):\n",
    "    grid = np.array([[c == \"#\" for c in row] for row in grid.split(\"\\n\")])\n",
    "    for row_i in range(1, len(grid)):\n",
    "        forward = grid[row_i:]\n",
    "        backward = grid[row_i-1::-1]\n",
    "        size = min(len(forward), len(backward))\n",
    "        if (forward[:size] == backward[:size]).all():\n",
    "            answer += (row_i) * 100\n",
    "\n",
    "    grid = grid.T\n",
    "\n",
    "    for row_i in range(1, len(grid)):\n",
    "        forward = grid[row_i:]\n",
    "        backward = grid[row_i-1::-1]\n",
    "        size = min(len(forward), len(backward))\n",
    "        if (forward[:size] == backward[:size]).all():\n",
    "            answer += (row_i)\n",
    "\n",
    "print(answer)"
   ]
  },
  {
   "cell_type": "code",
   "execution_count": 31,
   "metadata": {},
   "outputs": [
    {
     "name": "stdout",
     "output_type": "stream",
     "text": [
      "30844\n",
      "Execution time: 0.04 seconds\n",
      "Correct!\n"
     ]
    }
   ],
   "source": [
    "%%aoc 13 2\n",
    "\n",
    "answer = 0\n",
    "\n",
    "for grid in inputs.strip().split(\"\\n\\n\"):\n",
    "    grid = np.array([[c == \"#\" for c in row] for row in grid.split(\"\\n\")])\n",
    "    for row_i in range(1, len(grid)):\n",
    "        forward = grid[row_i:]\n",
    "        backward = grid[row_i-1::-1]\n",
    "        size = min(len(forward), len(backward))\n",
    "        if (forward[:size] != backward[:size]).sum() == 1:\n",
    "            answer += (row_i) * 100\n",
    "\n",
    "    grid = grid.T\n",
    "\n",
    "    for row_i in range(1, len(grid)):\n",
    "        forward = grid[row_i:]\n",
    "        backward = grid[row_i-1::-1]\n",
    "        size = min(len(forward), len(backward))\n",
    "        if (forward[:size] != backward[:size]).sum() == 1:\n",
    "            answer += (row_i)\n",
    "\n",
    "print(answer)"
   ]
  },
  {
   "cell_type": "markdown",
   "metadata": {},
   "source": [
    "# Day 14"
   ]
  },
  {
   "cell_type": "code",
   "execution_count": 32,
   "metadata": {},
   "outputs": [
    {
     "name": "stdout",
     "output_type": "stream",
     "text": [
      "105461\n",
      "Execution time: 0.013 seconds\n",
      "Correct!\n"
     ]
    }
   ],
   "source": [
    "%%aoc 14 1\n",
    "\n",
    "def shifter(match):\n",
    "    counts = Counter(match.group(1))\n",
    "    return \"#\" + \"O\"*counts[\"O\"] + \".\"*counts[\".\"]\n",
    "\n",
    "grid = [\"#\" + \"\".join(line) + \"#\" for line in zip(*inputs.strip().split())]\n",
    "grid = [\"#\" * len(grid[0])] + grid + [\"#\" * len(grid[0])]\n",
    "grid = [re.sub(\"#([.O]+)\", shifter, row) for row in grid]\n",
    "answer = sum(sum((i * (cell == \"O\")) for i, cell in enumerate(row[::-1])) for row in grid)\n",
    "print(answer)"
   ]
  },
  {
   "cell_type": "code",
   "execution_count": 33,
   "metadata": {},
   "outputs": [
    {
     "name": "stdout",
     "output_type": "stream",
     "text": [
      "102829\n",
      "Execution time: 3.2 seconds\n",
      "Correct!\n"
     ]
    }
   ],
   "source": [
    "%%aoc 14 2\n",
    "\n",
    "def align(grid):\n",
    "    new_grid = []\n",
    "    for row in grid:\n",
    "        new_row = []\n",
    "        rocks = spaces = 0\n",
    "        for cell in row:\n",
    "            if cell == \"#\":\n",
    "                new_row.extend([\"O\"] * rocks + [\".\"] * spaces + [\"#\"])\n",
    "                rocks = spaces = 0\n",
    "            elif cell == \"O\":\n",
    "                rocks += 1\n",
    "            elif cell == \".\":\n",
    "                spaces += 1\n",
    "    \n",
    "        new_grid.append(new_row)\n",
    "    return new_grid\n",
    "\n",
    "@cache\n",
    "def spin(grid):\n",
    "    for _ in range(4):\n",
    "        grid = align(grid)\n",
    "        grid = np.rot90(grid)\n",
    "\n",
    "    return tuple(tuple(x) for x in grid.tolist())\n",
    "\n",
    "grid = [(\"#\",) + tuple(line) + (\"#\", ) for line in zip(*inputs.strip().split())]\n",
    "grid = tuple([(\"#\",) * len(grid[0])] + grid + [(\"#\", ) * len(grid[0])])\n",
    "\n",
    "total = 1000000000\n",
    "\n",
    "seen = {grid: 0}\n",
    "for i in range(1, total+1):\n",
    "    grid = spin(grid)\n",
    "    if grid in seen:\n",
    "        break\n",
    "    seen[grid] = i\n",
    "\n",
    "start = seen[grid]\n",
    "end = i\n",
    "\n",
    "for i in range((total-start) % (end-start)):\n",
    "    grid = spin(grid)\n",
    "\n",
    "answer = sum(sum((i * (cell == \"O\")) for i, cell in enumerate(row[::-1])) for row in grid)\n",
    "print(answer)"
   ]
  },
  {
   "cell_type": "markdown",
   "metadata": {},
   "source": [
    "# Day 15"
   ]
  },
  {
   "cell_type": "code",
   "execution_count": 34,
   "metadata": {},
   "outputs": [],
   "source": [
    "def HASH(text):\n",
    "    h = 0\n",
    "    for c in text:\n",
    "        h = ((h + ord(c)) * 17) & 255\n",
    "    return h"
   ]
  },
  {
   "cell_type": "code",
   "execution_count": 35,
   "metadata": {},
   "outputs": [
    {
     "name": "stdout",
     "output_type": "stream",
     "text": [
      "504449\n",
      "Execution time: 0.0054 seconds\n",
      "Correct!\n"
     ]
    }
   ],
   "source": [
    "%%aoc 15 1\n",
    "\n",
    "answer = sum(HASH(text) for text in inputs.strip().split(\",\"))\n",
    "print(answer)"
   ]
  },
  {
   "cell_type": "code",
   "execution_count": 36,
   "metadata": {},
   "outputs": [
    {
     "name": "stdout",
     "output_type": "stream",
     "text": [
      "262044\n",
      "Execution time: 0.019 seconds\n",
      "Correct!\n"
     ]
    }
   ],
   "source": [
    "%%aoc 15 2\n",
    "\n",
    "boxes = [{} for _ in range(256)]\n",
    "\n",
    "for instr in inputs.strip().split(\",\"):\n",
    "    name, command, value = re.match(r\"([a-zA-Z]+)(-|=)(\\d*)\", instr).groups()\n",
    "    box = HASH(name)\n",
    "    if command == \"-\":\n",
    "        boxes[box].pop(name, None)\n",
    "    else:\n",
    "        boxes[box][name] = int(value)\n",
    "\n",
    "answer = 0\n",
    "for i, box in enumerate(boxes, 1):\n",
    "    for j, value in enumerate(box.values(), 1):\n",
    "        answer += i * j * value\n",
    "\n",
    "print(answer)"
   ]
  }
 ],
 "metadata": {
  "kernelspec": {
   "display_name": "Python 3 (ipykernel)",
   "language": "python",
   "name": "python3"
  },
  "language_info": {
   "codemirror_mode": {
    "name": "ipython",
    "version": 3
   },
   "file_extension": ".py",
   "mimetype": "text/x-python",
   "name": "python",
   "nbconvert_exporter": "python",
   "pygments_lexer": "ipython3",
   "version": "3.11.6"
  }
 },
 "nbformat": 4,
 "nbformat_minor": 4
}
