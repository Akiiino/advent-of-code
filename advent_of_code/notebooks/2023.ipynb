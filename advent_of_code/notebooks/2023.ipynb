{
 "cells": [
  {
   "cell_type": "code",
   "execution_count": 1,
   "metadata": {},
   "outputs": [],
   "source": [
    "%load_ext advent_of_code"
   ]
  },
  {
   "cell_type": "code",
   "execution_count": 2,
   "metadata": {},
   "outputs": [],
   "source": [
    "import re"
   ]
  },
  {
   "cell_type": "markdown",
   "metadata": {},
   "source": [
    "# Day 1"
   ]
  },
  {
   "cell_type": "code",
   "execution_count": 3,
   "metadata": {},
   "outputs": [
    {
     "name": "stdout",
     "output_type": "stream",
     "text": [
      "Execution time: 0.0014 seconds\n",
      "Correct!\n"
     ]
    }
   ],
   "source": [
    "%%aoc 1 1\n",
    "\n",
    "answer = 0\n",
    "for line in inputs.strip().split(\"\\n\"):\n",
    "    num = [c for c in line if c.isdigit()]\n",
    "    answer += int(num[0] + num[-1])"
   ]
  },
  {
   "cell_type": "code",
   "execution_count": 4,
   "metadata": {},
   "outputs": [
    {
     "name": "stdout",
     "output_type": "stream",
     "text": [
      "Execution time: 0.0038 seconds\n",
      "Correct!\n"
     ]
    }
   ],
   "source": [
    "%%aoc 1 2\n",
    "\n",
    "digits = [\"one\", \"two\", \"three\", \"four\", \"five\", \"six\", \"seven\", \"eight\", \"nine\"]\n",
    "digit_map = {d: i for i, d in enumerate(digits, 1)}\n",
    "\n",
    "answer = 0\n",
    "for line in inputs.strip().split(\"\\n\"):\n",
    "    num = re.findall(\"(?=(\\d|\"+\"|\".join(digits)+\"))\", line)\n",
    "    num = [digit_map.get(i, None) or int(i) for i in num]\n",
    "    answer += num[0] * 10 + num[-1]"
   ]
  }
 ],
 "metadata": {
  "kernelspec": {
   "display_name": "Python 3 (ipykernel)",
   "language": "python",
   "name": "python3"
  },
  "language_info": {
   "codemirror_mode": {
    "name": "ipython",
    "version": 3
   },
   "file_extension": ".py",
   "mimetype": "text/x-python",
   "name": "python",
   "nbconvert_exporter": "python",
   "pygments_lexer": "ipython3",
   "version": "3.11.6"
  }
 },
 "nbformat": 4,
 "nbformat_minor": 4
}
