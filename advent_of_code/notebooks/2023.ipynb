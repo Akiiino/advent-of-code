{
 "cells": [
  {
   "cell_type": "code",
   "execution_count": 1,
   "metadata": {},
   "outputs": [],
   "source": [
    "%load_ext advent_of_code"
   ]
  },
  {
   "cell_type": "code",
   "execution_count": 2,
   "metadata": {},
   "outputs": [],
   "source": [
    "import re\n",
    "import math\n",
    "import itertools\n",
    "\n",
    "from collections import defaultdict, Counter\n",
    "\n",
    "from tqdm.auto import tqdm"
   ]
  },
  {
   "cell_type": "markdown",
   "metadata": {},
   "source": [
    "# Day 1"
   ]
  },
  {
   "cell_type": "code",
   "execution_count": 3,
   "metadata": {},
   "outputs": [
    {
     "name": "stdout",
     "output_type": "stream",
     "text": [
      "Execution time: 0.0027 seconds\n",
      "Correct!\n"
     ]
    }
   ],
   "source": [
    "%%aoc 1 1\n",
    "\n",
    "answer = 0\n",
    "for line in inputs.strip().split(\"\\n\"):\n",
    "    num = [c for c in line if c.isdigit()]\n",
    "    answer += int(num[0] + num[-1])"
   ]
  },
  {
   "cell_type": "code",
   "execution_count": 4,
   "metadata": {},
   "outputs": [
    {
     "name": "stdout",
     "output_type": "stream",
     "text": [
      "Execution time: 0.0062 seconds\n",
      "Correct!\n"
     ]
    }
   ],
   "source": [
    "%%aoc 1 2\n",
    "\n",
    "digits = [\"one\", \"two\", \"three\", \"four\", \"five\", \"six\", \"seven\", \"eight\", \"nine\"]\n",
    "digit_map = {d: i for i, d in enumerate(digits, 1)}\n",
    "\n",
    "answer = 0\n",
    "for line in inputs.strip().split(\"\\n\"):\n",
    "    num = re.findall(\"(?=(\\d|\"+\"|\".join(digits)+\"))\", line)\n",
    "    num = [digit_map.get(i, None) or int(i) for i in num]\n",
    "    answer += num[0] * 10 + num[-1]"
   ]
  },
  {
   "cell_type": "markdown",
   "metadata": {},
   "source": [
    "# Day 2"
   ]
  },
  {
   "cell_type": "code",
   "execution_count": 5,
   "metadata": {},
   "outputs": [
    {
     "name": "stdout",
     "output_type": "stream",
     "text": [
      "Execution time: 0.0022 seconds\n",
      "Correct!\n"
     ]
    }
   ],
   "source": [
    "%%aoc 2 1\n",
    "\n",
    "total = {\"red\": 12, \"green\": 13, \"blue\": 14}\n",
    "\n",
    "answer = 0\n",
    "\n",
    "for game in inputs.strip().split(\"\\n\"):\n",
    "    num, rounds = game.split(\": \", 1)\n",
    "    num = int(num[5:])\n",
    "\n",
    "    possible = True\n",
    "    for round in rounds.split(\"; \"):\n",
    "        for cubes in round.split(\", \"):\n",
    "            count, color = cubes.split()\n",
    "            if int(count) > total[color]:\n",
    "                possible = False\n",
    "\n",
    "    if possible:\n",
    "        answer += num"
   ]
  },
  {
   "cell_type": "code",
   "execution_count": 6,
   "metadata": {},
   "outputs": [
    {
     "name": "stdout",
     "output_type": "stream",
     "text": [
      "Execution time: 0.0027 seconds\n",
      "Correct!\n"
     ]
    }
   ],
   "source": [
    "%%aoc 2 2\n",
    "\n",
    "answer = 0\n",
    "\n",
    "for game in inputs.strip().split(\"\\n\"):\n",
    "    num, rounds = game.split(\": \", 1)\n",
    "    num = int(num[5:])\n",
    "\n",
    "    total = {\"red\": 0, \"green\": 0, \"blue\": 0}\n",
    "\n",
    "\n",
    "    for round in rounds.split(\"; \"):\n",
    "        for cubes in round.split(\", \"):\n",
    "            count, color = cubes.split()\n",
    "            total[color] = max(total[color], int(count))\n",
    "\n",
    "    power = 1\n",
    "    for count in total.values():\n",
    "        power *= count\n",
    "\n",
    "    answer += power"
   ]
  },
  {
   "cell_type": "markdown",
   "metadata": {},
   "source": [
    "# Day 3"
   ]
  },
  {
   "cell_type": "code",
   "execution_count": 7,
   "metadata": {},
   "outputs": [
    {
     "name": "stdout",
     "output_type": "stream",
     "text": [
      "Execution time: 0.0051 seconds\n",
      "Correct!\n"
     ]
    }
   ],
   "source": [
    "%%aoc 3 1\n",
    "\n",
    "grid = inputs.strip().split(\"\\n\")\n",
    "\n",
    "grid = [\".\" + line + \".\" for line in grid]\n",
    "grid = [\".\"*len(grid[0])] + grid + [\".\"*len(grid[0])]\n",
    "\n",
    "answer = 0\n",
    "for i, line in enumerate(grid[1:-1], 1):\n",
    "    for num in re.finditer(r\"(?<!\\d)\\d+(?=.)\", line):\n",
    "        start, end = num.span()\n",
    "        if not (set(grid[i-1][start-1:end+1] + grid[i+1][start-1:end+1] + line[start-1] + line[end]) == {\".\"}):\n",
    "            answer += int(num.group())"
   ]
  },
  {
   "cell_type": "code",
   "execution_count": 8,
   "metadata": {},
   "outputs": [
    {
     "name": "stdout",
     "output_type": "stream",
     "text": [
      "Execution time: 0.0092 seconds\n",
      "Correct!\n"
     ]
    }
   ],
   "source": [
    "%%aoc 3 2\n",
    "\n",
    "grid = inputs.strip().split(\"\\n\")\n",
    "\n",
    "grid = [\".\" + line + \".\" for line in grid]\n",
    "grid = [\".\"*len(grid[0])] + grid + [\".\"*len(grid[0])]\n",
    "\n",
    "answer = 0\n",
    "\n",
    "gear_values = defaultdict(list)\n",
    "\n",
    "for i, line in enumerate(grid[1:-1], 1):\n",
    "    for num in re.finditer(r\"(?<!\\d)\\d+(?=.)\", line):\n",
    "        start, end = num.span()\n",
    "        for row_i in range(i-1, i+2):\n",
    "            row = grid[row_i][start-1:end+1]\n",
    "            for gear in re.finditer(r\"\\*\", row):\n",
    "                gear_values[(row_i, start+gear.start())].append(int(num.group()))\n",
    "\n",
    "for nums in gear_values.values():\n",
    "    if len(nums) == 2:\n",
    "        answer += nums[0] * nums[1]"
   ]
  },
  {
   "cell_type": "markdown",
   "metadata": {},
   "source": [
    "# Day 4"
   ]
  },
  {
   "cell_type": "code",
   "execution_count": 9,
   "metadata": {},
   "outputs": [],
   "source": [
    "inputs = \"\"\"Card 1: 41 48 83 86 17 | 83 86  6 31 17  9 48 53\n",
    "Card 2: 13 32 20 16 61 | 61 30 68 82 17 32 24 19\n",
    "Card 3:  1 21 53 59 44 | 69 82 63 72 16 21 14  1\n",
    "Card 4: 41 92 73 84 69 | 59 84 76 51 58  5 54 83\n",
    "Card 5: 87 83 26 28 32 | 88 30 70 12 93 22 82 36\n",
    "Card 6: 31 18 13 56 72 | 74 77 10 23 35 67 36 11\n",
    "\"\"\""
   ]
  },
  {
   "cell_type": "code",
   "execution_count": 10,
   "metadata": {},
   "outputs": [
    {
     "name": "stdout",
     "output_type": "stream",
     "text": [
      "Execution time: 0.0042 seconds\n",
      "Correct!\n"
     ]
    }
   ],
   "source": [
    "%%aoc 4 1\n",
    "\n",
    "answer = 0\n",
    "\n",
    "for card in inputs.strip().split(\"\\n\"):\n",
    "    i, win, nums = re.match(r\"Card +(\\d+): ([0-9 ]+) \\| ([0-9 ]+)\", card).groups()\n",
    "    win = Counter(win.split())\n",
    "    nums = Counter(nums.split())\n",
    "\n",
    "    answer += int(2**((win & nums).total()-1))"
   ]
  },
  {
   "cell_type": "code",
   "execution_count": 11,
   "metadata": {},
   "outputs": [
    {
     "name": "stdout",
     "output_type": "stream",
     "text": [
      "Execution time: 0.0048 seconds\n",
      "Correct!\n"
     ]
    }
   ],
   "source": [
    "%%aoc 4 2\n",
    "\n",
    "muls = [1 for card in inputs.strip().split(\"\\n\")]\n",
    "\n",
    "for i, card in enumerate(inputs.strip().split(\"\\n\")):\n",
    "    win, nums = re.match(r\"Card +\\d+: ([0-9 ]+) \\| ([0-9 ]+)\", card).groups()\n",
    "    win = Counter(win.split())\n",
    "    nums = Counter(nums.split())\n",
    "\n",
    "    for j in range(i+1, i+1+(win & nums).total()):\n",
    "        muls[j] += muls[i]\n",
    "\n",
    "answer = sum(muls)"
   ]
  },
  {
   "cell_type": "markdown",
   "metadata": {},
   "source": [
    "# Day 5"
   ]
  },
  {
   "cell_type": "code",
   "execution_count": 12,
   "metadata": {},
   "outputs": [
    {
     "name": "stdout",
     "output_type": "stream",
     "text": [
      "Execution time: 0.0022 seconds\n",
      "Correct!\n"
     ]
    }
   ],
   "source": [
    "%%aoc 5 1\n",
    "\n",
    "seeds, *maps = inputs.strip().split(\"\\n\\n\")\n",
    "\n",
    "seeds = [int(seed) for seed in seeds.split()[1:]]\n",
    "maps = [[[int(x) for x in part.split()] for part in layer.split(\"\\n\")[1:]] for layer in maps]\n",
    "\n",
    "answer = float(\"inf\")\n",
    "for seed in seeds:\n",
    "    for layer in maps:\n",
    "        for dest, source, n in layer:\n",
    "            if source <= seed < source + n:\n",
    "                seed = seed - source + dest\n",
    "                break\n",
    "    answer = min(answer, seed)"
   ]
  },
  {
   "cell_type": "code",
   "execution_count": 13,
   "metadata": {},
   "outputs": [
    {
     "name": "stdout",
     "output_type": "stream",
     "text": [
      "Execution time: 0.0083 seconds\n",
      "Correct!\n"
     ]
    }
   ],
   "source": [
    "%%aoc 5 2\n",
    "\n",
    "seeds, *maps = inputs.strip().split(\"\\n\\n\")\n",
    "\n",
    "seeds = [int(seed) for seed in seeds.split()[1:]]\n",
    "seeds = [[(s, s+n)] for s, n in zip(seeds[::2], seeds[1::2])]\n",
    "\n",
    "maps = [[[int(x) for x in part.split()] for part in layer.split(\"\\n\")[1:]] for layer in maps]\n",
    "maps = [[(dest_start, source_start, source_start + layer_n) for dest_start, source_start, layer_n in layer] for layer in maps]\n",
    "\n",
    "answer = float(\"inf\")\n",
    "for seed in seeds:\n",
    "    for layer in maps:\n",
    "        new_seed = []\n",
    "        while seed:\n",
    "            reg_start, reg_end = seed.pop()\n",
    "            for dest_start, source_start, source_end in layer:\n",
    "                overlap = (max(reg_start, source_start), min(reg_end, source_end))\n",
    "                if overlap[0] < overlap[1]:                    \n",
    "                    new_seed.append((overlap[0] - source_start + dest_start, overlap[1] - source_start + dest_start))\n",
    "                    if reg_start < source_start:\n",
    "                        seed.append((reg_start, source_start))\n",
    "                    if reg_end > source_end:\n",
    "                        seed.append((source_end, reg_end))\n",
    "                    break\n",
    "            else:\n",
    "                new_seed.append((reg_start, reg_end))\n",
    "    \n",
    "        seed = new_seed\n",
    "    answer = min(answer, *(reg[0] for reg in seed))"
   ]
  },
  {
   "cell_type": "markdown",
   "metadata": {},
   "source": [
    "# Day 6"
   ]
  },
  {
   "cell_type": "code",
   "execution_count": 14,
   "metadata": {},
   "outputs": [
    {
     "name": "stdout",
     "output_type": "stream",
     "text": [
      "Execution time: 0.00095 seconds\n",
      "Correct!\n"
     ]
    }
   ],
   "source": [
    "%%aoc 6 1\n",
    "data = list(zip(*[map(int, line.split()[1:]) for line in inputs.strip().split(\"\\n\")]))\n",
    "answer = 1\n",
    "for t, d in data:\n",
    "    answer *= t - 1 - 2*math.floor((t - math.sqrt(t**2 - 4*d))/2)"
   ]
  },
  {
   "cell_type": "code",
   "execution_count": 15,
   "metadata": {},
   "outputs": [
    {
     "name": "stdout",
     "output_type": "stream",
     "text": [
      "Execution time: 0.00081 seconds\n",
      "Correct!\n"
     ]
    }
   ],
   "source": [
    "%%aoc 6 2\n",
    "t, d = map(int, [\"\".join(line.split()[1:]) for line in inputs.strip().split(\"\\n\")])\n",
    "answer = t - 1 - 2*math.floor((t - math.sqrt(t**2 - 4*d))/2)"
   ]
  },
  {
   "cell_type": "markdown",
   "metadata": {},
   "source": [
    "# Day 7"
   ]
  },
  {
   "cell_type": "code",
   "execution_count": 16,
   "metadata": {},
   "outputs": [
    {
     "name": "stdout",
     "output_type": "stream",
     "text": [
      "Execution time: 0.0074 seconds\n",
      "Correct!\n"
     ]
    }
   ],
   "source": [
    "%%aoc 7 1\n",
    "\n",
    "types = [(5, ), (1, 4), (2, 3), (1, 1, 3), (1, 2, 2), (1, 1, 1, 2), (1, 1, 1, 1, 1)]\n",
    "cards = [\"A\", \"K\", \"Q\", \"J\", \"T\", \"9\", \"8\", \"7\", \"6\", \"5\", \"4\", \"3\", \"2\"]\n",
    "\n",
    "def hand_type(hand):\n",
    "    hand_type = types.index(tuple(sorted(len(list(x[1])) for x in itertools.groupby(sorted(hand)))))\n",
    "    first_card = [cards.index(card) for card in hand]\n",
    "    return (hand_type, first_card)\n",
    "\n",
    "lines = [line.split(\" \") for line in inputs.strip().split(\"\\n\")]\n",
    "\n",
    "hands = sorted(lines, key=lambda x: hand_type(x[0]), reverse=True)\n",
    "\n",
    "answer = 0\n",
    "for i, (_, bid ) in enumerate(hands, 1):\n",
    "    answer += i * int(bid)"
   ]
  },
  {
   "cell_type": "code",
   "execution_count": 17,
   "metadata": {},
   "outputs": [
    {
     "name": "stdout",
     "output_type": "stream",
     "text": [
      "Execution time: 0.0084 seconds\n",
      "Correct!\n"
     ]
    }
   ],
   "source": [
    "%%aoc 7 2\n",
    "\n",
    "types = [(5, ), (1, 4), (2, 3), (1, 1, 3), (1, 2, 2), (1, 1, 1, 2), (1, 1, 1, 1, 1)]\n",
    "cards = [\"A\", \"K\", \"Q\", \"T\", \"9\", \"8\", \"7\", \"6\", \"5\", \"4\", \"3\", \"2\", \"J\"]\n",
    "\n",
    "def hand_type(hand):\n",
    "    counts = tuple(sorted(len(list(x[1])) for x in itertools.groupby(sorted(hand.replace(\"J\", \"\")))))\n",
    "    for i, t in enumerate(types):\n",
    "        if len(counts) <= len(t) and counts <= t:\n",
    "            hand_type = i\n",
    "            break\n",
    "    \n",
    "    first_card = [cards.index(card) for card in hand]\n",
    "    return (hand_type, first_card)\n",
    "\n",
    "\n",
    "lines = [line.split(\" \") for line in inputs.strip().split(\"\\n\")]\n",
    "\n",
    "hands = sorted(lines, key=lambda x: hand_type(x[0]), reverse=True)\n",
    "\n",
    "answer = 0\n",
    "for i, (_, bid ) in enumerate(hands, 1):\n",
    "    answer += i * int(bid)"
   ]
  },
  {
   "cell_type": "markdown",
   "metadata": {},
   "source": [
    "# Day 9"
   ]
  },
  {
   "cell_type": "code",
   "execution_count": 18,
   "metadata": {},
   "outputs": [
    {
     "name": "stdout",
     "output_type": "stream",
     "text": [
      "Execution time: 0.0074 seconds\n",
      "Correct!\n"
     ]
    }
   ],
   "source": [
    "%%aoc 9 1\n",
    "\n",
    "def predict(seq):\n",
    "    diffs = [y - x for x, y in zip(seq[:-1], seq[1:])]\n",
    "    if set(diffs) == {0}:\n",
    "        return seq[-1]\n",
    "\n",
    "    return seq[-1] + predict(diffs)\n",
    "\n",
    "seqs = [[int(x) for x in line.split()] for line in inputs.strip().split(\"\\n\")]\n",
    "\n",
    "answer = sum(predict(seq) for seq in seqs)"
   ]
  },
  {
   "cell_type": "code",
   "execution_count": 19,
   "metadata": {},
   "outputs": [
    {
     "name": "stdout",
     "output_type": "stream",
     "text": [
      "Execution time: 0.0075 seconds\n",
      "Correct!\n"
     ]
    }
   ],
   "source": [
    "%%aoc 9 2\n",
    "\n",
    "def predict(seq):\n",
    "    diffs = [y - x for x, y in zip(seq[:-1], seq[1:])]\n",
    "    if set(diffs) == {0}:\n",
    "        return seq[0]\n",
    "\n",
    "    return seq[0] - predict(diffs)\n",
    "\n",
    "seqs = [[int(x) for x in line.split()] for line in inputs.strip().split(\"\\n\")]\n",
    "\n",
    "answer = sum(predict(seq) for seq in seqs)"
   ]
  }
 ],
 "metadata": {
  "kernelspec": {
   "display_name": "Python 3 (ipykernel)",
   "language": "python",
   "name": "python3"
  },
  "language_info": {
   "codemirror_mode": {
    "name": "ipython",
    "version": 3
   },
   "file_extension": ".py",
   "mimetype": "text/x-python",
   "name": "python",
   "nbconvert_exporter": "python",
   "pygments_lexer": "ipython3",
   "version": "3.11.6"
  }
 },
 "nbformat": 4,
 "nbformat_minor": 4
}
