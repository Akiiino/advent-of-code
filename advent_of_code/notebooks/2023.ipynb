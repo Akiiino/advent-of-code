{
 "cells": [
  {
   "cell_type": "code",
   "execution_count": 1,
   "metadata": {},
   "outputs": [],
   "source": [
    "%load_ext advent_of_code"
   ]
  },
  {
   "cell_type": "code",
   "execution_count": 2,
   "metadata": {},
   "outputs": [],
   "source": [
    "import re\n",
    "import math\n",
    "\n",
    "from collections import defaultdict"
   ]
  },
  {
   "cell_type": "markdown",
   "metadata": {},
   "source": [
    "# Day 1"
   ]
  },
  {
   "cell_type": "code",
   "execution_count": 3,
   "metadata": {},
   "outputs": [
    {
     "name": "stdout",
     "output_type": "stream",
     "text": [
      "Execution time: 0.0021 seconds\n",
      "Correct!\n"
     ]
    }
   ],
   "source": [
    "%%aoc 1 1\n",
    "\n",
    "answer = 0\n",
    "for line in inputs.strip().split(\"\\n\"):\n",
    "    num = [c for c in line if c.isdigit()]\n",
    "    answer += int(num[0] + num[-1])"
   ]
  },
  {
   "cell_type": "code",
   "execution_count": 4,
   "metadata": {},
   "outputs": [
    {
     "name": "stdout",
     "output_type": "stream",
     "text": [
      "Execution time: 0.0059 seconds\n",
      "Correct!\n"
     ]
    }
   ],
   "source": [
    "%%aoc 1 2\n",
    "\n",
    "digits = [\"one\", \"two\", \"three\", \"four\", \"five\", \"six\", \"seven\", \"eight\", \"nine\"]\n",
    "digit_map = {d: i for i, d in enumerate(digits, 1)}\n",
    "\n",
    "answer = 0\n",
    "for line in inputs.strip().split(\"\\n\"):\n",
    "    num = re.findall(\"(?=(\\d|\"+\"|\".join(digits)+\"))\", line)\n",
    "    num = [digit_map.get(i, None) or int(i) for i in num]\n",
    "    answer += num[0] * 10 + num[-1]"
   ]
  },
  {
   "cell_type": "markdown",
   "metadata": {},
   "source": [
    "# Day 2"
   ]
  },
  {
   "cell_type": "code",
   "execution_count": 5,
   "metadata": {},
   "outputs": [
    {
     "name": "stdout",
     "output_type": "stream",
     "text": [
      "Execution time: 0.0022 seconds\n",
      "Correct!\n"
     ]
    }
   ],
   "source": [
    "%%aoc 2 1\n",
    "\n",
    "total = {\"red\": 12, \"green\": 13, \"blue\": 14}\n",
    "\n",
    "answer = 0\n",
    "\n",
    "for game in inputs.strip().split(\"\\n\"):\n",
    "    num, rounds = game.split(\": \", 1)\n",
    "    num = int(num[5:])\n",
    "\n",
    "    possible = True\n",
    "    for round in rounds.split(\"; \"):\n",
    "        for cubes in round.split(\", \"):\n",
    "            count, color = cubes.split()\n",
    "            if int(count) > total[color]:\n",
    "                possible = False\n",
    "\n",
    "    if possible:\n",
    "        answer += num"
   ]
  },
  {
   "cell_type": "code",
   "execution_count": 6,
   "metadata": {},
   "outputs": [
    {
     "name": "stdout",
     "output_type": "stream",
     "text": [
      "Execution time: 0.0035 seconds\n",
      "Correct!\n"
     ]
    }
   ],
   "source": [
    "%%aoc 2 2\n",
    "\n",
    "answer = 0\n",
    "\n",
    "for game in inputs.strip().split(\"\\n\"):\n",
    "    num, rounds = game.split(\": \", 1)\n",
    "    num = int(num[5:])\n",
    "\n",
    "    total = {\"red\": 0, \"green\": 0, \"blue\": 0}\n",
    "\n",
    "\n",
    "    for round in rounds.split(\"; \"):\n",
    "        for cubes in round.split(\", \"):\n",
    "            count, color = cubes.split()\n",
    "            total[color] = max(total[color], int(count))\n",
    "\n",
    "    power = 1\n",
    "    for count in total.values():\n",
    "        power *= count\n",
    "\n",
    "    answer += power"
   ]
  },
  {
   "cell_type": "markdown",
   "metadata": {},
   "source": [
    "# Day 3"
   ]
  },
  {
   "cell_type": "code",
   "execution_count": 7,
   "metadata": {},
   "outputs": [
    {
     "name": "stdout",
     "output_type": "stream",
     "text": [
      "Execution time: 0.0048 seconds\n",
      "Correct!\n"
     ]
    }
   ],
   "source": [
    "%%aoc 3 1\n",
    "\n",
    "grid = inputs.strip().split(\"\\n\")\n",
    "\n",
    "grid = [\".\" + line + \".\" for line in grid]\n",
    "grid = [\".\"*len(grid[0])] + grid + [\".\"*len(grid[0])]\n",
    "\n",
    "answer = 0\n",
    "for i, line in enumerate(grid[1:-1], 1):\n",
    "    for num in re.finditer(r\"(?<!\\d)\\d+(?=.)\", line):\n",
    "        start, end = num.span()\n",
    "        if not (set(grid[i-1][start-1:end+1] + grid[i+1][start-1:end+1] + line[start-1] + line[end]) == {\".\"}):\n",
    "            answer += int(num.group())"
   ]
  },
  {
   "cell_type": "code",
   "execution_count": 8,
   "metadata": {},
   "outputs": [
    {
     "name": "stdout",
     "output_type": "stream",
     "text": [
      "Execution time: 0.0088 seconds\n",
      "Correct!\n"
     ]
    }
   ],
   "source": [
    "%%aoc 3 2\n",
    "\n",
    "grid = inputs.strip().split(\"\\n\")\n",
    "\n",
    "grid = [\".\" + line + \".\" for line in grid]\n",
    "grid = [\".\"*len(grid[0])] + grid + [\".\"*len(grid[0])]\n",
    "\n",
    "answer = 0\n",
    "\n",
    "gear_values = defaultdict(list)\n",
    "\n",
    "for i, line in enumerate(grid[1:-1], 1):\n",
    "    for num in re.finditer(r\"(?<!\\d)\\d+(?=.)\", line):\n",
    "        start, end = num.span()\n",
    "        for row_i in range(i-1, i+2):\n",
    "            row = grid[row_i][start-1:end+1]\n",
    "            for gear in re.finditer(r\"\\*\", row):\n",
    "                gear_values[(row_i, start+gear.start())].append(int(num.group()))\n",
    "\n",
    "for nums in gear_values.values():\n",
    "    if len(nums) == 2:\n",
    "        answer += nums[0] * nums[1]"
   ]
  },
  {
   "cell_type": "markdown",
   "metadata": {},
   "source": [
    "# Day 6"
   ]
  },
  {
   "cell_type": "code",
   "execution_count": 9,
   "metadata": {},
   "outputs": [
    {
     "name": "stdout",
     "output_type": "stream",
     "text": [
      "Execution time: 0.00092 seconds\n",
      "Correct!\n"
     ]
    }
   ],
   "source": [
    "%%aoc 6 1\n",
    "data = list(zip(*[map(int, line.split()[1:]) for line in inputs.strip().split(\"\\n\")]))\n",
    "answer = 1\n",
    "for t, d in data:\n",
    "    answer *= t - 1 - 2*math.floor((t - math.sqrt(t**2 - 4*d))/2)"
   ]
  },
  {
   "cell_type": "code",
   "execution_count": 10,
   "metadata": {},
   "outputs": [
    {
     "name": "stdout",
     "output_type": "stream",
     "text": [
      "Execution time: 0.00085 seconds\n",
      "Correct!\n"
     ]
    }
   ],
   "source": [
    "%%aoc 6 2\n",
    "t, d = map(int, [\"\".join(line.split()[1:]) for line in inputs.strip().split(\"\\n\")])\n",
    "answer = t - 1 - 2*math.floor((t - math.sqrt(t**2 - 4*d))/2)"
   ]
  }
 ],
 "metadata": {
  "kernelspec": {
   "display_name": "Python 3 (ipykernel)",
   "language": "python",
   "name": "python3"
  },
  "language_info": {
   "codemirror_mode": {
    "name": "ipython",
    "version": 3
   },
   "file_extension": ".py",
   "mimetype": "text/x-python",
   "name": "python",
   "nbconvert_exporter": "python",
   "pygments_lexer": "ipython3",
   "version": "3.11.6"
  }
 },
 "nbformat": 4,
 "nbformat_minor": 4
}
